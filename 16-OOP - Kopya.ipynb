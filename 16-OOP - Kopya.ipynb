{
 "cells": [
  {
   "cell_type": "code",
   "execution_count": 2,
   "metadata": {},
   "outputs": [],
   "source": [
    "benimListem = list()"
   ]
  },
  {
   "cell_type": "code",
   "execution_count": 3,
   "metadata": {},
   "outputs": [
    {
     "data": {
      "text/plain": [
       "list"
      ]
     },
     "execution_count": 3,
     "metadata": {},
     "output_type": "execute_result"
    }
   ],
   "source": [
    "type(benimListem)"
   ]
  },
  {
   "cell_type": "markdown",
   "metadata": {},
   "source": [
    "## instance & attribute"
   ]
  },
  {
   "cell_type": "code",
   "execution_count": 4,
   "metadata": {},
   "outputs": [],
   "source": [
    "superKahramanAdi = \"Superman\"\n",
    "superKahramanYasi = 30\n",
    "superKahramanMeslegi = \"Gazeteci\""
   ]
  },
  {
   "cell_type": "code",
   "execution_count": 5,
   "metadata": {},
   "outputs": [],
   "source": [
    "ikinciSuperKahramanAdi = \"Batman\""
   ]
  },
  {
   "cell_type": "code",
   "execution_count": 54,
   "metadata": {},
   "outputs": [],
   "source": [
    "class SuperKahraman():\n",
    "    \n",
    "    ozelGuc = \"Gorunezlik\"\n",
    "    \n",
    "    def __init__(self,isimInput,yasInput,meslekInput):\n",
    "        print(\"init çağırıldı\")\n",
    "        self.isim = isimInput\n",
    "        self.yas = yasInput\n",
    "        self.meslek = meslekInput\n",
    "    \n",
    "    def ornekMethod(self):\n",
    "        print(f\"ben süperKahramanım ve meslegim: {self.meslek}\")"
   ]
  },
  {
   "cell_type": "code",
   "execution_count": 55,
   "metadata": {},
   "outputs": [
    {
     "name": "stdout",
     "output_type": "stream",
     "text": [
      "init çağırıldı\n"
     ]
    }
   ],
   "source": [
    "superman = SuperKahraman(\"Superman\",30,\"Gazeteci\")"
   ]
  },
  {
   "cell_type": "code",
   "execution_count": 56,
   "metadata": {},
   "outputs": [],
   "source": [
    "superman.isim = \"Clark Kent\""
   ]
  },
  {
   "cell_type": "code",
   "execution_count": 57,
   "metadata": {},
   "outputs": [
    {
     "data": {
      "text/plain": [
       "'Clark Kent'"
      ]
     },
     "execution_count": 57,
     "metadata": {},
     "output_type": "execute_result"
    }
   ],
   "source": [
    "superman.isim"
   ]
  },
  {
   "cell_type": "code",
   "execution_count": 58,
   "metadata": {},
   "outputs": [
    {
     "data": {
      "text/plain": [
       "30"
      ]
     },
     "execution_count": 58,
     "metadata": {},
     "output_type": "execute_result"
    }
   ],
   "source": [
    "superman.yas"
   ]
  },
  {
   "cell_type": "code",
   "execution_count": 59,
   "metadata": {},
   "outputs": [
    {
     "data": {
      "text/plain": [
       "'Gazeteci'"
      ]
     },
     "execution_count": 59,
     "metadata": {},
     "output_type": "execute_result"
    }
   ],
   "source": [
    "superman.meslek"
   ]
  },
  {
   "cell_type": "code",
   "execution_count": 60,
   "metadata": {},
   "outputs": [],
   "source": [
    "superman.ozelGuc = \"Uçabiliyor\""
   ]
  },
  {
   "cell_type": "code",
   "execution_count": 61,
   "metadata": {},
   "outputs": [
    {
     "data": {
      "text/plain": [
       "'Uçabiliyor'"
      ]
     },
     "execution_count": 61,
     "metadata": {},
     "output_type": "execute_result"
    }
   ],
   "source": [
    "superman.ozelGuc"
   ]
  },
  {
   "cell_type": "code",
   "execution_count": 62,
   "metadata": {},
   "outputs": [
    {
     "name": "stdout",
     "output_type": "stream",
     "text": [
      "ben süperKahramanım ve meslegim: Gazeteci\n"
     ]
    }
   ],
   "source": [
    "superman.ornekMethod()"
   ]
  },
  {
   "cell_type": "code",
   "execution_count": 87,
   "metadata": {},
   "outputs": [],
   "source": [
    "class Kopek():\n",
    "    \n",
    "    yılCarpani = 7\n",
    "    \n",
    "    \n",
    "    def __init__(self,yas=6):\n",
    "        self.yas = yas\n",
    "        self.insanYasinaCevrilmisAttribute = yas*7\n",
    "        \n",
    "    def insanYasiniHesapla(self):\n",
    "        return self.yas * self.yilCarpani"
   ]
  },
  {
   "cell_type": "code",
   "execution_count": 88,
   "metadata": {},
   "outputs": [],
   "source": [
    "benimKopek = Kopek()"
   ]
  },
  {
   "cell_type": "code",
   "execution_count": 89,
   "metadata": {},
   "outputs": [
    {
     "data": {
      "text/plain": [
       "6"
      ]
     },
     "execution_count": 89,
     "metadata": {},
     "output_type": "execute_result"
    }
   ],
   "source": [
    "benimKopek.yas"
   ]
  },
  {
   "cell_type": "code",
   "execution_count": 90,
   "metadata": {},
   "outputs": [
    {
     "data": {
      "text/plain": [
       "42"
      ]
     },
     "execution_count": 90,
     "metadata": {},
     "output_type": "execute_result"
    }
   ],
   "source": [
    "benimKopek.insanYasiniHesapla()"
   ]
  },
  {
   "cell_type": "code",
   "execution_count": 91,
   "metadata": {},
   "outputs": [
    {
     "data": {
      "text/plain": [
       "42"
      ]
     },
     "execution_count": 91,
     "metadata": {},
     "output_type": "execute_result"
    }
   ],
   "source": [
    "benimKopek.insanYasinaCevrilmisAttribute"
   ]
  },
  {
   "cell_type": "markdown",
   "metadata": {},
   "source": [
    "## inheritance"
   ]
  },
  {
   "cell_type": "code",
   "execution_count": 106,
   "metadata": {},
   "outputs": [],
   "source": [
    "class Hayvan():\n",
    "    def __init__(self):\n",
    "        print(\"hayvan sınıfı init çağırıldı\")\n",
    "        \n",
    "    def method1(self):\n",
    "        print(\"hayvan sınıfı method1\")\n",
    "        \n",
    "    def method2(self):\n",
    "        print(\"hayvan sınıfı method2 çağırıldı\")"
   ]
  },
  {
   "cell_type": "code",
   "execution_count": 107,
   "metadata": {},
   "outputs": [
    {
     "name": "stdout",
     "output_type": "stream",
     "text": [
      "hayvan sınıfı init çağırıldı\n"
     ]
    }
   ],
   "source": [
    "benimHayvanim = Hayvan()"
   ]
  },
  {
   "cell_type": "code",
   "execution_count": 108,
   "metadata": {},
   "outputs": [
    {
     "name": "stdout",
     "output_type": "stream",
     "text": [
      "hayvan sınıfı method1\n"
     ]
    }
   ],
   "source": [
    "benimHayvanim.method1()"
   ]
  },
  {
   "cell_type": "code",
   "execution_count": 109,
   "metadata": {},
   "outputs": [
    {
     "name": "stdout",
     "output_type": "stream",
     "text": [
      "hayvan sınıfı method2 çağırıldı\n"
     ]
    }
   ],
   "source": [
    "benimHayvanim.method2()"
   ]
  },
  {
   "cell_type": "code",
   "execution_count": 115,
   "metadata": {},
   "outputs": [],
   "source": [
    "class Kedi(Hayvan):\n",
    "    def __init__(self):\n",
    "        Hayvan.__init__(self)\n",
    "        print(\"kedi sınıfı init çağırıldı\")\n",
    "        \n",
    "    def miyavla(self):\n",
    "        print(\"miyav\")\n",
    "    \n",
    "    #override\n",
    "    def method1(self):\n",
    "        print(\"kedi sınıfındaki method1 çağırıldı\")"
   ]
  },
  {
   "cell_type": "code",
   "execution_count": 116,
   "metadata": {},
   "outputs": [
    {
     "name": "stdout",
     "output_type": "stream",
     "text": [
      "hayvan sınıfı init çağırıldı\n",
      "kedi sınıfı init çağırıldı\n"
     ]
    }
   ],
   "source": [
    "benimKedi = Kedi()"
   ]
  },
  {
   "cell_type": "code",
   "execution_count": 117,
   "metadata": {},
   "outputs": [
    {
     "name": "stdout",
     "output_type": "stream",
     "text": [
      "kedi sınıfındaki method1 çağırıldı\n"
     ]
    }
   ],
   "source": [
    "benimKedi.method1()"
   ]
  },
  {
   "cell_type": "code",
   "execution_count": 118,
   "metadata": {},
   "outputs": [
    {
     "name": "stdout",
     "output_type": "stream",
     "text": [
      "hayvan sınıfı method2 çağırıldı\n"
     ]
    }
   ],
   "source": [
    "benimKedi.method2()"
   ]
  },
  {
   "cell_type": "code",
   "execution_count": 119,
   "metadata": {},
   "outputs": [
    {
     "name": "stdout",
     "output_type": "stream",
     "text": [
      "miyav\n"
     ]
    }
   ],
   "source": [
    "benimKedi.miyavla()"
   ]
  },
  {
   "cell_type": "code",
   "execution_count": 120,
   "metadata": {},
   "outputs": [
    {
     "name": "stdout",
     "output_type": "stream",
     "text": [
      "hayvan sınıfı init çağırıldı\n"
     ]
    }
   ],
   "source": [
    "digerHayvan = Hayvan()"
   ]
  },
  {
   "cell_type": "code",
   "execution_count": 121,
   "metadata": {},
   "outputs": [
    {
     "name": "stdout",
     "output_type": "stream",
     "text": [
      "hayvan sınıfı method1\n"
     ]
    }
   ],
   "source": [
    "digerHayvan.method1()"
   ]
  },
  {
   "cell_type": "code",
   "execution_count": 122,
   "metadata": {},
   "outputs": [
    {
     "name": "stdout",
     "output_type": "stream",
     "text": [
      "hayvan sınıfı init çağırıldı\n",
      "kedi sınıfı init çağırıldı\n"
     ]
    }
   ],
   "source": [
    "digerKedi = Kedi()"
   ]
  },
  {
   "cell_type": "code",
   "execution_count": 123,
   "metadata": {},
   "outputs": [
    {
     "name": "stdout",
     "output_type": "stream",
     "text": [
      "kedi sınıfındaki method1 çağırıldı\n"
     ]
    }
   ],
   "source": [
    "digerKedi.method1()"
   ]
  },
  {
   "cell_type": "markdown",
   "metadata": {},
   "source": [
    "## Polymorphism"
   ]
  },
  {
   "cell_type": "code",
   "execution_count": 124,
   "metadata": {},
   "outputs": [],
   "source": [
    "class Elma():\n",
    "    def __init__(self,isim):\n",
    "        self.isim = isim\n",
    "        \n",
    "    def bilgiVer(self):\n",
    "        return self.isim + \" 100 kaloridir \""
   ]
  },
  {
   "cell_type": "code",
   "execution_count": 125,
   "metadata": {},
   "outputs": [],
   "source": [
    "class Muz():\n",
    "    def __init__(self,isim):\n",
    "        self.isim = isim\n",
    "        \n",
    "    def bilgiVer(self):\n",
    "        return self.isim + \" 150 kaloridir \""
   ]
  },
  {
   "cell_type": "code",
   "execution_count": 128,
   "metadata": {},
   "outputs": [],
   "source": [
    "elma = Elma(\"elma \")"
   ]
  },
  {
   "cell_type": "code",
   "execution_count": 129,
   "metadata": {},
   "outputs": [
    {
     "data": {
      "text/plain": [
       "'elma 100 kaloridir'"
      ]
     },
     "execution_count": 129,
     "metadata": {},
     "output_type": "execute_result"
    }
   ],
   "source": [
    "elma.bilgiVer()"
   ]
  },
  {
   "cell_type": "code",
   "execution_count": 130,
   "metadata": {},
   "outputs": [],
   "source": [
    "muz = Muz(\"muz\")"
   ]
  },
  {
   "cell_type": "code",
   "execution_count": 131,
   "metadata": {},
   "outputs": [
    {
     "data": {
      "text/plain": [
       "'muz 150 kaloridir '"
      ]
     },
     "execution_count": 131,
     "metadata": {},
     "output_type": "execute_result"
    }
   ],
   "source": [
    "muz.bilgiVer()"
   ]
  },
  {
   "cell_type": "code",
   "execution_count": 132,
   "metadata": {},
   "outputs": [],
   "source": [
    "meyveListesi = [elma,muz]"
   ]
  },
  {
   "cell_type": "code",
   "execution_count": 134,
   "metadata": {},
   "outputs": [
    {
     "name": "stdout",
     "output_type": "stream",
     "text": [
      "elma 100 kaloridir\n",
      "muz 150 kaloridir \n"
     ]
    }
   ],
   "source": [
    "for meyve in meyveListesi:\n",
    "    print(meyve.bilgiVer())"
   ]
  },
  {
   "cell_type": "code",
   "execution_count": 135,
   "metadata": {},
   "outputs": [],
   "source": [
    "def bilgiAl(merve):\n",
    "    print(meyve.bilgiVer())"
   ]
  },
  {
   "cell_type": "code",
   "execution_count": 136,
   "metadata": {},
   "outputs": [
    {
     "name": "stdout",
     "output_type": "stream",
     "text": [
      "muz 150 kaloridir \n"
     ]
    }
   ],
   "source": [
    "bilgiAl(muz)"
   ]
  },
  {
   "cell_type": "code",
   "execution_count": 137,
   "metadata": {},
   "outputs": [
    {
     "name": "stdout",
     "output_type": "stream",
     "text": [
      "muz 150 kaloridir \n"
     ]
    }
   ],
   "source": [
    "bilgiAl(elma)"
   ]
  },
  {
   "cell_type": "code",
   "execution_count": null,
   "metadata": {},
   "outputs": [],
   "source": []
  }
 ],
 "metadata": {
  "kernelspec": {
   "display_name": "Python 3",
   "language": "python",
   "name": "python3"
  },
  "language_info": {
   "codemirror_mode": {
    "name": "ipython",
    "version": 3
   },
   "file_extension": ".py",
   "mimetype": "text/x-python",
   "name": "python",
   "nbconvert_exporter": "python",
   "pygments_lexer": "ipython3",
   "version": "3.8.5"
  }
 },
 "nbformat": 4,
 "nbformat_minor": 4
}
