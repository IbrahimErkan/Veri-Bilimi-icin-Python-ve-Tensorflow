{
 "cells": [
  {
   "cell_type": "code",
   "execution_count": 18,
   "metadata": {},
   "outputs": [
    {
     "name": "stdout",
     "output_type": "stream",
     "text": [
      "Boyunuzu giriniz: 1.30\n",
      "Kilonuzu giriniz: 190\n",
      "41.42011834319526\n",
      "obezsiniz, mutlaka ama mutlaka hastaneye gitmeniz gerekiyor\n"
     ]
    }
   ],
   "source": [
    "#boy-kilo endeksi\n",
    "boy=float(input(\"Boyunuzu giriniz: \"))\n",
    "kılo=int(input(\"Kilonuzu giriniz: \"))\n",
    "boykare = (boy **2)\n",
    "islem = kilo / boykare\n",
    "print(islem)\n",
    "\n",
    "if 0<islem<18.5:\n",
    "    print(\"Zayıf, mutlaka hastaneye gitmeniz gerekiyor\")\n",
    "elif 18.5<islem<24.9:\n",
    "    print(\"endexiniz normal\")\n",
    "elif 24.9<islem<40:\n",
    "    print(\"kilolusunuz\")\n",
    "else:\n",
    "    print(\"obezsiniz, mutlaka ama mutlaka hastaneye gitmeniz gerekiyor\")"
   ]
  },
  {
   "cell_type": "code",
   "execution_count": 25,
   "metadata": {},
   "outputs": [
    {
     "name": "stdout",
     "output_type": "stream",
     "text": [
      "lütfen bir sayi giriniz: 0\n",
      "sayı 0\n"
     ]
    }
   ],
   "source": [
    "#sayı pozitif mi negatif mi\n",
    "sayi = int(input(\"lütfen bir sayi giriniz: \"))\n",
    "\n",
    "if sayi>0:\n",
    "    print(\"sayı pozitiftir.\")\n",
    "elif sayi==0:\n",
    "    print(\"sayı 0\")\n",
    "else:\n",
    "    print(\"sayı negatiftir.\")"
   ]
  },
  {
   "cell_type": "code",
   "execution_count": 26,
   "metadata": {},
   "outputs": [
    {
     "name": "stdout",
     "output_type": "stream",
     "text": [
      "please bir sayı giriniz: 10\n",
      "please bir sayı giriniz: 20\n",
      "15.0\n"
     ]
    }
   ],
   "source": [
    "#iki sayının ortlaması\n",
    "sayi1 = int(input(\"please bir sayı giriniz: \"))\n",
    "sayi2 = int(input(\"please bir sayı giriniz: \"))\n",
    "\n",
    "toplam = sayi1+sayi2\n",
    "ortalama = toplam / 2\n",
    "print(ortalama)"
   ]
  },
  {
   "cell_type": "code",
   "execution_count": null,
   "metadata": {},
   "outputs": [],
   "source": []
  }
 ],
 "metadata": {
  "kernelspec": {
   "display_name": "Python 3",
   "language": "python",
   "name": "python3"
  },
  "language_info": {
   "codemirror_mode": {
    "name": "ipython",
    "version": 3
   },
   "file_extension": ".py",
   "mimetype": "text/x-python",
   "name": "python",
   "nbconvert_exporter": "python",
   "pygments_lexer": "ipython3",
   "version": "3.8.5"
  }
 },
 "nbformat": 4,
 "nbformat_minor": 4
}
