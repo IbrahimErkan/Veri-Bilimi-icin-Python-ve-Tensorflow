{
 "cells": [
  {
   "cell_type": "code",
   "execution_count": 89,
   "metadata": {},
   "outputs": [],
   "source": [
    "import pandas as pd\n",
    "import numpy as np"
   ]
  },
  {
   "cell_type": "code",
   "execution_count": 90,
   "metadata": {},
   "outputs": [
    {
     "data": {
      "text/plain": [
       "0    10.0\n",
       "1    -5.0\n",
       "2     1.1\n",
       "3    77.7\n",
       "dtype: float64"
      ]
     },
     "execution_count": 90,
     "metadata": {},
     "output_type": "execute_result"
    }
   ],
   "source": [
    "pd.Series([10,-5,1.1,77.7])"
   ]
  },
  {
   "cell_type": "code",
   "execution_count": 91,
   "metadata": {},
   "outputs": [
    {
     "data": {
      "text/plain": [
       "Chandler    10.0\n",
       "Bing        -5.0\n",
       "Bender       1.1\n",
       "Rodrigez    77.7\n",
       "dtype: float64"
      ]
     },
     "execution_count": 91,
     "metadata": {},
     "output_type": "execute_result"
    }
   ],
   "source": [
    "pd.Series([10,-5,1.1,77.7], index=[\"Chandler\",\"Bing\",\"Bender\",\"Rodrigez\"])"
   ]
  },
  {
   "cell_type": "code",
   "execution_count": 92,
   "metadata": {},
   "outputs": [],
   "source": [
    "data = {\"İsim\": [\"Ahnet\",\"Ezgi\",\"Mehmet\",\"Sevda\"], #Not a Number\n",
    "       \"Boy\": [180,170,150,np.nan], \n",
    "       \"AyakkabıNumarası\": [42,np.nan,39,36],\n",
    "       \"Kilo\": [80,50,70,45]\n",
    "       }"
   ]
  },
  {
   "cell_type": "code",
   "execution_count": 93,
   "metadata": {},
   "outputs": [
    {
     "name": "stdout",
     "output_type": "stream",
     "text": [
      "{'İsim': ['Ahnet', 'Ezgi', 'Mehmet', 'Sevda'], 'Boy': [180, 170, 150, nan], 'AyakkabıNumarası': [42, nan, 39, 36], 'Kilo': [80, 50, 70, 45]}\n"
     ]
    }
   ],
   "source": [
    "print(data)"
   ]
  },
  {
   "cell_type": "code",
   "execution_count": 94,
   "metadata": {},
   "outputs": [
    {
     "name": "stdout",
     "output_type": "stream",
     "text": [
      "{'AyakkabıNumarası': [42, nan, 39, 36],\n",
      " 'Boy': [180, 170, 150, nan],\n",
      " 'Kilo': [80, 50, 70, 45],\n",
      " 'İsim': ['Ahnet', 'Ezgi', 'Mehmet', 'Sevda']}\n"
     ]
    }
   ],
   "source": [
    "from pprint import pprint\n",
    "pprint(data)"
   ]
  },
  {
   "cell_type": "code",
   "execution_count": 95,
   "metadata": {},
   "outputs": [],
   "source": [
    "randNumbers = np.random.random((7,4))"
   ]
  },
  {
   "cell_type": "code",
   "execution_count": 96,
   "metadata": {},
   "outputs": [
    {
     "data": {
      "text/plain": [
       "array([[0.87771953, 0.57755246, 0.75823626, 0.84348594],\n",
       "       [0.76763167, 0.20691368, 0.29856958, 0.09823466],\n",
       "       [0.15035265, 0.0859903 , 0.7258977 , 0.07740614],\n",
       "       [0.95208492, 0.30904244, 0.178235  , 0.93708228],\n",
       "       [0.02739245, 0.55590255, 0.22004797, 0.03581485],\n",
       "       [0.99472083, 0.35991506, 0.76251411, 0.37227574],\n",
       "       [0.62546428, 0.86337327, 0.27071266, 0.94008197]])"
      ]
     },
     "execution_count": 96,
     "metadata": {},
     "output_type": "execute_result"
    }
   ],
   "source": [
    "randNumbers"
   ]
  },
  {
   "cell_type": "code",
   "execution_count": 97,
   "metadata": {},
   "outputs": [
    {
     "data": {
      "text/html": [
       "<div>\n",
       "<style scoped>\n",
       "    .dataframe tbody tr th:only-of-type {\n",
       "        vertical-align: middle;\n",
       "    }\n",
       "\n",
       "    .dataframe tbody tr th {\n",
       "        vertical-align: top;\n",
       "    }\n",
       "\n",
       "    .dataframe thead th {\n",
       "        text-align: right;\n",
       "    }\n",
       "</style>\n",
       "<table border=\"1\" class=\"dataframe\">\n",
       "  <thead>\n",
       "    <tr style=\"text-align: right;\">\n",
       "      <th></th>\n",
       "      <th>0</th>\n",
       "      <th>1</th>\n",
       "      <th>2</th>\n",
       "      <th>3</th>\n",
       "    </tr>\n",
       "  </thead>\n",
       "  <tbody>\n",
       "    <tr>\n",
       "      <th>0</th>\n",
       "      <td>0.877720</td>\n",
       "      <td>0.577552</td>\n",
       "      <td>0.758236</td>\n",
       "      <td>0.843486</td>\n",
       "    </tr>\n",
       "    <tr>\n",
       "      <th>1</th>\n",
       "      <td>0.767632</td>\n",
       "      <td>0.206914</td>\n",
       "      <td>0.298570</td>\n",
       "      <td>0.098235</td>\n",
       "    </tr>\n",
       "    <tr>\n",
       "      <th>2</th>\n",
       "      <td>0.150353</td>\n",
       "      <td>0.085990</td>\n",
       "      <td>0.725898</td>\n",
       "      <td>0.077406</td>\n",
       "    </tr>\n",
       "    <tr>\n",
       "      <th>3</th>\n",
       "      <td>0.952085</td>\n",
       "      <td>0.309042</td>\n",
       "      <td>0.178235</td>\n",
       "      <td>0.937082</td>\n",
       "    </tr>\n",
       "    <tr>\n",
       "      <th>4</th>\n",
       "      <td>0.027392</td>\n",
       "      <td>0.555903</td>\n",
       "      <td>0.220048</td>\n",
       "      <td>0.035815</td>\n",
       "    </tr>\n",
       "    <tr>\n",
       "      <th>5</th>\n",
       "      <td>0.994721</td>\n",
       "      <td>0.359915</td>\n",
       "      <td>0.762514</td>\n",
       "      <td>0.372276</td>\n",
       "    </tr>\n",
       "    <tr>\n",
       "      <th>6</th>\n",
       "      <td>0.625464</td>\n",
       "      <td>0.863373</td>\n",
       "      <td>0.270713</td>\n",
       "      <td>0.940082</td>\n",
       "    </tr>\n",
       "  </tbody>\n",
       "</table>\n",
       "</div>"
      ],
      "text/plain": [
       "          0         1         2         3\n",
       "0  0.877720  0.577552  0.758236  0.843486\n",
       "1  0.767632  0.206914  0.298570  0.098235\n",
       "2  0.150353  0.085990  0.725898  0.077406\n",
       "3  0.952085  0.309042  0.178235  0.937082\n",
       "4  0.027392  0.555903  0.220048  0.035815\n",
       "5  0.994721  0.359915  0.762514  0.372276\n",
       "6  0.625464  0.863373  0.270713  0.940082"
      ]
     },
     "execution_count": 97,
     "metadata": {},
     "output_type": "execute_result"
    }
   ],
   "source": [
    "df = pd.DataFrame(randNumbers)\n",
    "df"
   ]
  },
  {
   "cell_type": "code",
   "execution_count": 98,
   "metadata": {},
   "outputs": [],
   "source": [
    "df = pd.DataFrame(randNumbers, columns = [\"00.00\",\"06.00\",\"12.00\",\"18.00\"])"
   ]
  },
  {
   "cell_type": "code",
   "execution_count": 99,
   "metadata": {},
   "outputs": [
    {
     "data": {
      "text/html": [
       "<div>\n",
       "<style scoped>\n",
       "    .dataframe tbody tr th:only-of-type {\n",
       "        vertical-align: middle;\n",
       "    }\n",
       "\n",
       "    .dataframe tbody tr th {\n",
       "        vertical-align: top;\n",
       "    }\n",
       "\n",
       "    .dataframe thead th {\n",
       "        text-align: right;\n",
       "    }\n",
       "</style>\n",
       "<table border=\"1\" class=\"dataframe\">\n",
       "  <thead>\n",
       "    <tr style=\"text-align: right;\">\n",
       "      <th></th>\n",
       "      <th>00.00</th>\n",
       "      <th>06.00</th>\n",
       "      <th>12.00</th>\n",
       "      <th>18.00</th>\n",
       "    </tr>\n",
       "  </thead>\n",
       "  <tbody>\n",
       "    <tr>\n",
       "      <th>0</th>\n",
       "      <td>0.877720</td>\n",
       "      <td>0.577552</td>\n",
       "      <td>0.758236</td>\n",
       "      <td>0.843486</td>\n",
       "    </tr>\n",
       "    <tr>\n",
       "      <th>1</th>\n",
       "      <td>0.767632</td>\n",
       "      <td>0.206914</td>\n",
       "      <td>0.298570</td>\n",
       "      <td>0.098235</td>\n",
       "    </tr>\n",
       "    <tr>\n",
       "      <th>2</th>\n",
       "      <td>0.150353</td>\n",
       "      <td>0.085990</td>\n",
       "      <td>0.725898</td>\n",
       "      <td>0.077406</td>\n",
       "    </tr>\n",
       "    <tr>\n",
       "      <th>3</th>\n",
       "      <td>0.952085</td>\n",
       "      <td>0.309042</td>\n",
       "      <td>0.178235</td>\n",
       "      <td>0.937082</td>\n",
       "    </tr>\n",
       "    <tr>\n",
       "      <th>4</th>\n",
       "      <td>0.027392</td>\n",
       "      <td>0.555903</td>\n",
       "      <td>0.220048</td>\n",
       "      <td>0.035815</td>\n",
       "    </tr>\n",
       "    <tr>\n",
       "      <th>5</th>\n",
       "      <td>0.994721</td>\n",
       "      <td>0.359915</td>\n",
       "      <td>0.762514</td>\n",
       "      <td>0.372276</td>\n",
       "    </tr>\n",
       "    <tr>\n",
       "      <th>6</th>\n",
       "      <td>0.625464</td>\n",
       "      <td>0.863373</td>\n",
       "      <td>0.270713</td>\n",
       "      <td>0.940082</td>\n",
       "    </tr>\n",
       "  </tbody>\n",
       "</table>\n",
       "</div>"
      ],
      "text/plain": [
       "      00.00     06.00     12.00     18.00\n",
       "0  0.877720  0.577552  0.758236  0.843486\n",
       "1  0.767632  0.206914  0.298570  0.098235\n",
       "2  0.150353  0.085990  0.725898  0.077406\n",
       "3  0.952085  0.309042  0.178235  0.937082\n",
       "4  0.027392  0.555903  0.220048  0.035815\n",
       "5  0.994721  0.359915  0.762514  0.372276\n",
       "6  0.625464  0.863373  0.270713  0.940082"
      ]
     },
     "execution_count": 99,
     "metadata": {},
     "output_type": "execute_result"
    }
   ],
   "source": [
    "df"
   ]
  },
  {
   "cell_type": "code",
   "execution_count": 100,
   "metadata": {},
   "outputs": [],
   "source": [
    "dates = pd.date_range(\"2021-03-09\", periods=7)"
   ]
  },
  {
   "cell_type": "code",
   "execution_count": 101,
   "metadata": {},
   "outputs": [
    {
     "data": {
      "text/plain": [
       "DatetimeIndex(['2021-03-09', '2021-03-10', '2021-03-11', '2021-03-12',\n",
       "               '2021-03-13', '2021-03-14', '2021-03-15'],\n",
       "              dtype='datetime64[ns]', freq='D')"
      ]
     },
     "execution_count": 101,
     "metadata": {},
     "output_type": "execute_result"
    }
   ],
   "source": [
    "dates"
   ]
  },
  {
   "cell_type": "code",
   "execution_count": 102,
   "metadata": {},
   "outputs": [],
   "source": [
    "df = pd.DataFrame(randNumbers,\n",
    "                 index=dates,\n",
    "                 columns=[\"00.00\",\"06.00\",\"12.00\",\"18.00\"])"
   ]
  },
  {
   "cell_type": "code",
   "execution_count": 103,
   "metadata": {},
   "outputs": [
    {
     "data": {
      "text/html": [
       "<div>\n",
       "<style scoped>\n",
       "    .dataframe tbody tr th:only-of-type {\n",
       "        vertical-align: middle;\n",
       "    }\n",
       "\n",
       "    .dataframe tbody tr th {\n",
       "        vertical-align: top;\n",
       "    }\n",
       "\n",
       "    .dataframe thead th {\n",
       "        text-align: right;\n",
       "    }\n",
       "</style>\n",
       "<table border=\"1\" class=\"dataframe\">\n",
       "  <thead>\n",
       "    <tr style=\"text-align: right;\">\n",
       "      <th></th>\n",
       "      <th>00.00</th>\n",
       "      <th>06.00</th>\n",
       "      <th>12.00</th>\n",
       "      <th>18.00</th>\n",
       "    </tr>\n",
       "  </thead>\n",
       "  <tbody>\n",
       "    <tr>\n",
       "      <th>2021-03-09</th>\n",
       "      <td>0.877720</td>\n",
       "      <td>0.577552</td>\n",
       "      <td>0.758236</td>\n",
       "      <td>0.843486</td>\n",
       "    </tr>\n",
       "    <tr>\n",
       "      <th>2021-03-10</th>\n",
       "      <td>0.767632</td>\n",
       "      <td>0.206914</td>\n",
       "      <td>0.298570</td>\n",
       "      <td>0.098235</td>\n",
       "    </tr>\n",
       "    <tr>\n",
       "      <th>2021-03-11</th>\n",
       "      <td>0.150353</td>\n",
       "      <td>0.085990</td>\n",
       "      <td>0.725898</td>\n",
       "      <td>0.077406</td>\n",
       "    </tr>\n",
       "    <tr>\n",
       "      <th>2021-03-12</th>\n",
       "      <td>0.952085</td>\n",
       "      <td>0.309042</td>\n",
       "      <td>0.178235</td>\n",
       "      <td>0.937082</td>\n",
       "    </tr>\n",
       "    <tr>\n",
       "      <th>2021-03-13</th>\n",
       "      <td>0.027392</td>\n",
       "      <td>0.555903</td>\n",
       "      <td>0.220048</td>\n",
       "      <td>0.035815</td>\n",
       "    </tr>\n",
       "    <tr>\n",
       "      <th>2021-03-14</th>\n",
       "      <td>0.994721</td>\n",
       "      <td>0.359915</td>\n",
       "      <td>0.762514</td>\n",
       "      <td>0.372276</td>\n",
       "    </tr>\n",
       "    <tr>\n",
       "      <th>2021-03-15</th>\n",
       "      <td>0.625464</td>\n",
       "      <td>0.863373</td>\n",
       "      <td>0.270713</td>\n",
       "      <td>0.940082</td>\n",
       "    </tr>\n",
       "  </tbody>\n",
       "</table>\n",
       "</div>"
      ],
      "text/plain": [
       "               00.00     06.00     12.00     18.00\n",
       "2021-03-09  0.877720  0.577552  0.758236  0.843486\n",
       "2021-03-10  0.767632  0.206914  0.298570  0.098235\n",
       "2021-03-11  0.150353  0.085990  0.725898  0.077406\n",
       "2021-03-12  0.952085  0.309042  0.178235  0.937082\n",
       "2021-03-13  0.027392  0.555903  0.220048  0.035815\n",
       "2021-03-14  0.994721  0.359915  0.762514  0.372276\n",
       "2021-03-15  0.625464  0.863373  0.270713  0.940082"
      ]
     },
     "execution_count": 103,
     "metadata": {},
     "output_type": "execute_result"
    }
   ],
   "source": [
    "df"
   ]
  },
  {
   "cell_type": "code",
   "execution_count": 104,
   "metadata": {},
   "outputs": [
    {
     "data": {
      "text/plain": [
       "00.00    float64\n",
       "06.00    float64\n",
       "12.00    float64\n",
       "18.00    float64\n",
       "dtype: object"
      ]
     },
     "execution_count": 104,
     "metadata": {},
     "output_type": "execute_result"
    }
   ],
   "source": [
    "df.dtypes"
   ]
  },
  {
   "cell_type": "code",
   "execution_count": 105,
   "metadata": {},
   "outputs": [],
   "source": [
    "df2 = pd.DataFrame({\"A\": 1.0,\n",
    "                   \"B\": pd.Timestamp(\"20210309\"),\n",
    "                   \"C\": pd.Series(1,index=list(range(4)),dtype=\"float32\"),\n",
    "                   \"D\": np.array([3]*4,dtype=\"int32\"),\n",
    "                   \"E\": pd.Categorical([\"test\",\"train\",\"validation\",\"train\"]),\n",
    "                   \"F\": \"foo\",\n",
    "                   }\n",
    "                  )"
   ]
  },
  {
   "cell_type": "code",
   "execution_count": 106,
   "metadata": {},
   "outputs": [
    {
     "data": {
      "text/html": [
       "<div>\n",
       "<style scoped>\n",
       "    .dataframe tbody tr th:only-of-type {\n",
       "        vertical-align: middle;\n",
       "    }\n",
       "\n",
       "    .dataframe tbody tr th {\n",
       "        vertical-align: top;\n",
       "    }\n",
       "\n",
       "    .dataframe thead th {\n",
       "        text-align: right;\n",
       "    }\n",
       "</style>\n",
       "<table border=\"1\" class=\"dataframe\">\n",
       "  <thead>\n",
       "    <tr style=\"text-align: right;\">\n",
       "      <th></th>\n",
       "      <th>A</th>\n",
       "      <th>B</th>\n",
       "      <th>C</th>\n",
       "      <th>D</th>\n",
       "      <th>E</th>\n",
       "      <th>F</th>\n",
       "    </tr>\n",
       "  </thead>\n",
       "  <tbody>\n",
       "    <tr>\n",
       "      <th>0</th>\n",
       "      <td>1.0</td>\n",
       "      <td>2021-03-09</td>\n",
       "      <td>1.0</td>\n",
       "      <td>3</td>\n",
       "      <td>test</td>\n",
       "      <td>foo</td>\n",
       "    </tr>\n",
       "    <tr>\n",
       "      <th>1</th>\n",
       "      <td>1.0</td>\n",
       "      <td>2021-03-09</td>\n",
       "      <td>1.0</td>\n",
       "      <td>3</td>\n",
       "      <td>train</td>\n",
       "      <td>foo</td>\n",
       "    </tr>\n",
       "    <tr>\n",
       "      <th>2</th>\n",
       "      <td>1.0</td>\n",
       "      <td>2021-03-09</td>\n",
       "      <td>1.0</td>\n",
       "      <td>3</td>\n",
       "      <td>validation</td>\n",
       "      <td>foo</td>\n",
       "    </tr>\n",
       "    <tr>\n",
       "      <th>3</th>\n",
       "      <td>1.0</td>\n",
       "      <td>2021-03-09</td>\n",
       "      <td>1.0</td>\n",
       "      <td>3</td>\n",
       "      <td>train</td>\n",
       "      <td>foo</td>\n",
       "    </tr>\n",
       "  </tbody>\n",
       "</table>\n",
       "</div>"
      ],
      "text/plain": [
       "     A          B    C  D           E    F\n",
       "0  1.0 2021-03-09  1.0  3        test  foo\n",
       "1  1.0 2021-03-09  1.0  3       train  foo\n",
       "2  1.0 2021-03-09  1.0  3  validation  foo\n",
       "3  1.0 2021-03-09  1.0  3       train  foo"
      ]
     },
     "execution_count": 106,
     "metadata": {},
     "output_type": "execute_result"
    }
   ],
   "source": [
    "df2"
   ]
  },
  {
   "cell_type": "code",
   "execution_count": 107,
   "metadata": {},
   "outputs": [
    {
     "data": {
      "text/plain": [
       "A           float64\n",
       "B    datetime64[ns]\n",
       "C           float32\n",
       "D             int32\n",
       "E          category\n",
       "F            object\n",
       "dtype: object"
      ]
     },
     "execution_count": 107,
     "metadata": {},
     "output_type": "execute_result"
    }
   ],
   "source": [
    "df2.dtypes"
   ]
  },
  {
   "cell_type": "code",
   "execution_count": 108,
   "metadata": {},
   "outputs": [
    {
     "data": {
      "text/html": [
       "<div>\n",
       "<style scoped>\n",
       "    .dataframe tbody tr th:only-of-type {\n",
       "        vertical-align: middle;\n",
       "    }\n",
       "\n",
       "    .dataframe tbody tr th {\n",
       "        vertical-align: top;\n",
       "    }\n",
       "\n",
       "    .dataframe thead th {\n",
       "        text-align: right;\n",
       "    }\n",
       "</style>\n",
       "<table border=\"1\" class=\"dataframe\">\n",
       "  <thead>\n",
       "    <tr style=\"text-align: right;\">\n",
       "      <th></th>\n",
       "      <th>00.00</th>\n",
       "      <th>06.00</th>\n",
       "      <th>12.00</th>\n",
       "      <th>18.00</th>\n",
       "    </tr>\n",
       "  </thead>\n",
       "  <tbody>\n",
       "    <tr>\n",
       "      <th>2021-03-09</th>\n",
       "      <td>0.877720</td>\n",
       "      <td>0.577552</td>\n",
       "      <td>0.758236</td>\n",
       "      <td>0.843486</td>\n",
       "    </tr>\n",
       "    <tr>\n",
       "      <th>2021-03-10</th>\n",
       "      <td>0.767632</td>\n",
       "      <td>0.206914</td>\n",
       "      <td>0.298570</td>\n",
       "      <td>0.098235</td>\n",
       "    </tr>\n",
       "    <tr>\n",
       "      <th>2021-03-11</th>\n",
       "      <td>0.150353</td>\n",
       "      <td>0.085990</td>\n",
       "      <td>0.725898</td>\n",
       "      <td>0.077406</td>\n",
       "    </tr>\n",
       "    <tr>\n",
       "      <th>2021-03-12</th>\n",
       "      <td>0.952085</td>\n",
       "      <td>0.309042</td>\n",
       "      <td>0.178235</td>\n",
       "      <td>0.937082</td>\n",
       "    </tr>\n",
       "    <tr>\n",
       "      <th>2021-03-13</th>\n",
       "      <td>0.027392</td>\n",
       "      <td>0.555903</td>\n",
       "      <td>0.220048</td>\n",
       "      <td>0.035815</td>\n",
       "    </tr>\n",
       "    <tr>\n",
       "      <th>2021-03-14</th>\n",
       "      <td>0.994721</td>\n",
       "      <td>0.359915</td>\n",
       "      <td>0.762514</td>\n",
       "      <td>0.372276</td>\n",
       "    </tr>\n",
       "    <tr>\n",
       "      <th>2021-03-15</th>\n",
       "      <td>0.625464</td>\n",
       "      <td>0.863373</td>\n",
       "      <td>0.270713</td>\n",
       "      <td>0.940082</td>\n",
       "    </tr>\n",
       "  </tbody>\n",
       "</table>\n",
       "</div>"
      ],
      "text/plain": [
       "               00.00     06.00     12.00     18.00\n",
       "2021-03-09  0.877720  0.577552  0.758236  0.843486\n",
       "2021-03-10  0.767632  0.206914  0.298570  0.098235\n",
       "2021-03-11  0.150353  0.085990  0.725898  0.077406\n",
       "2021-03-12  0.952085  0.309042  0.178235  0.937082\n",
       "2021-03-13  0.027392  0.555903  0.220048  0.035815\n",
       "2021-03-14  0.994721  0.359915  0.762514  0.372276\n",
       "2021-03-15  0.625464  0.863373  0.270713  0.940082"
      ]
     },
     "execution_count": 108,
     "metadata": {},
     "output_type": "execute_result"
    }
   ],
   "source": [
    "df"
   ]
  },
  {
   "cell_type": "code",
   "execution_count": 109,
   "metadata": {},
   "outputs": [
    {
     "data": {
      "text/html": [
       "<div>\n",
       "<style scoped>\n",
       "    .dataframe tbody tr th:only-of-type {\n",
       "        vertical-align: middle;\n",
       "    }\n",
       "\n",
       "    .dataframe tbody tr th {\n",
       "        vertical-align: top;\n",
       "    }\n",
       "\n",
       "    .dataframe thead th {\n",
       "        text-align: right;\n",
       "    }\n",
       "</style>\n",
       "<table border=\"1\" class=\"dataframe\">\n",
       "  <thead>\n",
       "    <tr style=\"text-align: right;\">\n",
       "      <th></th>\n",
       "      <th>00.00</th>\n",
       "      <th>06.00</th>\n",
       "      <th>12.00</th>\n",
       "      <th>18.00</th>\n",
       "    </tr>\n",
       "  </thead>\n",
       "  <tbody>\n",
       "    <tr>\n",
       "      <th>2021-03-09</th>\n",
       "      <td>0.877720</td>\n",
       "      <td>0.577552</td>\n",
       "      <td>0.758236</td>\n",
       "      <td>0.843486</td>\n",
       "    </tr>\n",
       "    <tr>\n",
       "      <th>2021-03-10</th>\n",
       "      <td>0.767632</td>\n",
       "      <td>0.206914</td>\n",
       "      <td>0.298570</td>\n",
       "      <td>0.098235</td>\n",
       "    </tr>\n",
       "    <tr>\n",
       "      <th>2021-03-11</th>\n",
       "      <td>0.150353</td>\n",
       "      <td>0.085990</td>\n",
       "      <td>0.725898</td>\n",
       "      <td>0.077406</td>\n",
       "    </tr>\n",
       "    <tr>\n",
       "      <th>2021-03-12</th>\n",
       "      <td>0.952085</td>\n",
       "      <td>0.309042</td>\n",
       "      <td>0.178235</td>\n",
       "      <td>0.937082</td>\n",
       "    </tr>\n",
       "    <tr>\n",
       "      <th>2021-03-13</th>\n",
       "      <td>0.027392</td>\n",
       "      <td>0.555903</td>\n",
       "      <td>0.220048</td>\n",
       "      <td>0.035815</td>\n",
       "    </tr>\n",
       "  </tbody>\n",
       "</table>\n",
       "</div>"
      ],
      "text/plain": [
       "               00.00     06.00     12.00     18.00\n",
       "2021-03-09  0.877720  0.577552  0.758236  0.843486\n",
       "2021-03-10  0.767632  0.206914  0.298570  0.098235\n",
       "2021-03-11  0.150353  0.085990  0.725898  0.077406\n",
       "2021-03-12  0.952085  0.309042  0.178235  0.937082\n",
       "2021-03-13  0.027392  0.555903  0.220048  0.035815"
      ]
     },
     "execution_count": 109,
     "metadata": {},
     "output_type": "execute_result"
    }
   ],
   "source": [
    "df.head()"
   ]
  },
  {
   "cell_type": "code",
   "execution_count": 110,
   "metadata": {},
   "outputs": [
    {
     "data": {
      "text/html": [
       "<div>\n",
       "<style scoped>\n",
       "    .dataframe tbody tr th:only-of-type {\n",
       "        vertical-align: middle;\n",
       "    }\n",
       "\n",
       "    .dataframe tbody tr th {\n",
       "        vertical-align: top;\n",
       "    }\n",
       "\n",
       "    .dataframe thead th {\n",
       "        text-align: right;\n",
       "    }\n",
       "</style>\n",
       "<table border=\"1\" class=\"dataframe\">\n",
       "  <thead>\n",
       "    <tr style=\"text-align: right;\">\n",
       "      <th></th>\n",
       "      <th>00.00</th>\n",
       "      <th>06.00</th>\n",
       "      <th>12.00</th>\n",
       "      <th>18.00</th>\n",
       "    </tr>\n",
       "  </thead>\n",
       "  <tbody>\n",
       "    <tr>\n",
       "      <th>2021-03-09</th>\n",
       "      <td>0.877720</td>\n",
       "      <td>0.577552</td>\n",
       "      <td>0.758236</td>\n",
       "      <td>0.843486</td>\n",
       "    </tr>\n",
       "    <tr>\n",
       "      <th>2021-03-10</th>\n",
       "      <td>0.767632</td>\n",
       "      <td>0.206914</td>\n",
       "      <td>0.298570</td>\n",
       "      <td>0.098235</td>\n",
       "    </tr>\n",
       "  </tbody>\n",
       "</table>\n",
       "</div>"
      ],
      "text/plain": [
       "               00.00     06.00     12.00     18.00\n",
       "2021-03-09  0.877720  0.577552  0.758236  0.843486\n",
       "2021-03-10  0.767632  0.206914  0.298570  0.098235"
      ]
     },
     "execution_count": 110,
     "metadata": {},
     "output_type": "execute_result"
    }
   ],
   "source": [
    "df.head(2)"
   ]
  },
  {
   "cell_type": "code",
   "execution_count": 111,
   "metadata": {},
   "outputs": [
    {
     "data": {
      "text/html": [
       "<div>\n",
       "<style scoped>\n",
       "    .dataframe tbody tr th:only-of-type {\n",
       "        vertical-align: middle;\n",
       "    }\n",
       "\n",
       "    .dataframe tbody tr th {\n",
       "        vertical-align: top;\n",
       "    }\n",
       "\n",
       "    .dataframe thead th {\n",
       "        text-align: right;\n",
       "    }\n",
       "</style>\n",
       "<table border=\"1\" class=\"dataframe\">\n",
       "  <thead>\n",
       "    <tr style=\"text-align: right;\">\n",
       "      <th></th>\n",
       "      <th>00.00</th>\n",
       "      <th>06.00</th>\n",
       "      <th>12.00</th>\n",
       "      <th>18.00</th>\n",
       "    </tr>\n",
       "  </thead>\n",
       "  <tbody>\n",
       "    <tr>\n",
       "      <th>2021-03-11</th>\n",
       "      <td>0.150353</td>\n",
       "      <td>0.085990</td>\n",
       "      <td>0.725898</td>\n",
       "      <td>0.077406</td>\n",
       "    </tr>\n",
       "    <tr>\n",
       "      <th>2021-03-12</th>\n",
       "      <td>0.952085</td>\n",
       "      <td>0.309042</td>\n",
       "      <td>0.178235</td>\n",
       "      <td>0.937082</td>\n",
       "    </tr>\n",
       "    <tr>\n",
       "      <th>2021-03-13</th>\n",
       "      <td>0.027392</td>\n",
       "      <td>0.555903</td>\n",
       "      <td>0.220048</td>\n",
       "      <td>0.035815</td>\n",
       "    </tr>\n",
       "    <tr>\n",
       "      <th>2021-03-14</th>\n",
       "      <td>0.994721</td>\n",
       "      <td>0.359915</td>\n",
       "      <td>0.762514</td>\n",
       "      <td>0.372276</td>\n",
       "    </tr>\n",
       "    <tr>\n",
       "      <th>2021-03-15</th>\n",
       "      <td>0.625464</td>\n",
       "      <td>0.863373</td>\n",
       "      <td>0.270713</td>\n",
       "      <td>0.940082</td>\n",
       "    </tr>\n",
       "  </tbody>\n",
       "</table>\n",
       "</div>"
      ],
      "text/plain": [
       "               00.00     06.00     12.00     18.00\n",
       "2021-03-11  0.150353  0.085990  0.725898  0.077406\n",
       "2021-03-12  0.952085  0.309042  0.178235  0.937082\n",
       "2021-03-13  0.027392  0.555903  0.220048  0.035815\n",
       "2021-03-14  0.994721  0.359915  0.762514  0.372276\n",
       "2021-03-15  0.625464  0.863373  0.270713  0.940082"
      ]
     },
     "execution_count": 111,
     "metadata": {},
     "output_type": "execute_result"
    }
   ],
   "source": [
    "df.tail()"
   ]
  },
  {
   "cell_type": "code",
   "execution_count": 112,
   "metadata": {},
   "outputs": [
    {
     "data": {
      "text/html": [
       "<div>\n",
       "<style scoped>\n",
       "    .dataframe tbody tr th:only-of-type {\n",
       "        vertical-align: middle;\n",
       "    }\n",
       "\n",
       "    .dataframe tbody tr th {\n",
       "        vertical-align: top;\n",
       "    }\n",
       "\n",
       "    .dataframe thead th {\n",
       "        text-align: right;\n",
       "    }\n",
       "</style>\n",
       "<table border=\"1\" class=\"dataframe\">\n",
       "  <thead>\n",
       "    <tr style=\"text-align: right;\">\n",
       "      <th></th>\n",
       "      <th>00.00</th>\n",
       "      <th>06.00</th>\n",
       "      <th>12.00</th>\n",
       "      <th>18.00</th>\n",
       "    </tr>\n",
       "  </thead>\n",
       "  <tbody>\n",
       "    <tr>\n",
       "      <th>2021-03-14</th>\n",
       "      <td>0.994721</td>\n",
       "      <td>0.359915</td>\n",
       "      <td>0.762514</td>\n",
       "      <td>0.372276</td>\n",
       "    </tr>\n",
       "    <tr>\n",
       "      <th>2021-03-15</th>\n",
       "      <td>0.625464</td>\n",
       "      <td>0.863373</td>\n",
       "      <td>0.270713</td>\n",
       "      <td>0.940082</td>\n",
       "    </tr>\n",
       "  </tbody>\n",
       "</table>\n",
       "</div>"
      ],
      "text/plain": [
       "               00.00     06.00     12.00     18.00\n",
       "2021-03-14  0.994721  0.359915  0.762514  0.372276\n",
       "2021-03-15  0.625464  0.863373  0.270713  0.940082"
      ]
     },
     "execution_count": 112,
     "metadata": {},
     "output_type": "execute_result"
    }
   ],
   "source": [
    "df.tail(2)"
   ]
  },
  {
   "cell_type": "code",
   "execution_count": 113,
   "metadata": {},
   "outputs": [
    {
     "data": {
      "text/plain": [
       "DatetimeIndex(['2021-03-09', '2021-03-10', '2021-03-11', '2021-03-12',\n",
       "               '2021-03-13', '2021-03-14', '2021-03-15'],\n",
       "              dtype='datetime64[ns]', freq='D')"
      ]
     },
     "execution_count": 113,
     "metadata": {},
     "output_type": "execute_result"
    }
   ],
   "source": [
    "df.index"
   ]
  },
  {
   "cell_type": "code",
   "execution_count": 114,
   "metadata": {},
   "outputs": [
    {
     "data": {
      "text/plain": [
       "Index(['00.00', '06.00', '12.00', '18.00'], dtype='object')"
      ]
     },
     "execution_count": 114,
     "metadata": {},
     "output_type": "execute_result"
    }
   ],
   "source": [
    "df.columns.unique()"
   ]
  },
  {
   "cell_type": "code",
   "execution_count": 115,
   "metadata": {},
   "outputs": [
    {
     "data": {
      "text/plain": [
       "array([[0.87771953, 0.57755246, 0.75823626, 0.84348594],\n",
       "       [0.76763167, 0.20691368, 0.29856958, 0.09823466],\n",
       "       [0.15035265, 0.0859903 , 0.7258977 , 0.07740614],\n",
       "       [0.95208492, 0.30904244, 0.178235  , 0.93708228],\n",
       "       [0.02739245, 0.55590255, 0.22004797, 0.03581485],\n",
       "       [0.99472083, 0.35991506, 0.76251411, 0.37227574],\n",
       "       [0.62546428, 0.86337327, 0.27071266, 0.94008197]])"
      ]
     },
     "execution_count": 115,
     "metadata": {},
     "output_type": "execute_result"
    }
   ],
   "source": [
    "df.to_numpy()"
   ]
  },
  {
   "cell_type": "code",
   "execution_count": 116,
   "metadata": {},
   "outputs": [
    {
     "data": {
      "text/html": [
       "<div>\n",
       "<style scoped>\n",
       "    .dataframe tbody tr th:only-of-type {\n",
       "        vertical-align: middle;\n",
       "    }\n",
       "\n",
       "    .dataframe tbody tr th {\n",
       "        vertical-align: top;\n",
       "    }\n",
       "\n",
       "    .dataframe thead th {\n",
       "        text-align: right;\n",
       "    }\n",
       "</style>\n",
       "<table border=\"1\" class=\"dataframe\">\n",
       "  <thead>\n",
       "    <tr style=\"text-align: right;\">\n",
       "      <th></th>\n",
       "      <th>00.00</th>\n",
       "      <th>06.00</th>\n",
       "      <th>12.00</th>\n",
       "      <th>18.00</th>\n",
       "    </tr>\n",
       "  </thead>\n",
       "  <tbody>\n",
       "    <tr>\n",
       "      <th>count</th>\n",
       "      <td>7.000000</td>\n",
       "      <td>7.000000</td>\n",
       "      <td>7.000000</td>\n",
       "      <td>7.000000</td>\n",
       "    </tr>\n",
       "    <tr>\n",
       "      <th>mean</th>\n",
       "      <td>0.627909</td>\n",
       "      <td>0.422670</td>\n",
       "      <td>0.459173</td>\n",
       "      <td>0.472055</td>\n",
       "    </tr>\n",
       "    <tr>\n",
       "      <th>std</th>\n",
       "      <td>0.389499</td>\n",
       "      <td>0.262270</td>\n",
       "      <td>0.273866</td>\n",
       "      <td>0.422100</td>\n",
       "    </tr>\n",
       "    <tr>\n",
       "      <th>min</th>\n",
       "      <td>0.027392</td>\n",
       "      <td>0.085990</td>\n",
       "      <td>0.178235</td>\n",
       "      <td>0.035815</td>\n",
       "    </tr>\n",
       "    <tr>\n",
       "      <th>25%</th>\n",
       "      <td>0.387908</td>\n",
       "      <td>0.257978</td>\n",
       "      <td>0.245380</td>\n",
       "      <td>0.087820</td>\n",
       "    </tr>\n",
       "    <tr>\n",
       "      <th>50%</th>\n",
       "      <td>0.767632</td>\n",
       "      <td>0.359915</td>\n",
       "      <td>0.298570</td>\n",
       "      <td>0.372276</td>\n",
       "    </tr>\n",
       "    <tr>\n",
       "      <th>75%</th>\n",
       "      <td>0.914902</td>\n",
       "      <td>0.566728</td>\n",
       "      <td>0.742067</td>\n",
       "      <td>0.890284</td>\n",
       "    </tr>\n",
       "    <tr>\n",
       "      <th>max</th>\n",
       "      <td>0.994721</td>\n",
       "      <td>0.863373</td>\n",
       "      <td>0.762514</td>\n",
       "      <td>0.940082</td>\n",
       "    </tr>\n",
       "  </tbody>\n",
       "</table>\n",
       "</div>"
      ],
      "text/plain": [
       "          00.00     06.00     12.00     18.00\n",
       "count  7.000000  7.000000  7.000000  7.000000\n",
       "mean   0.627909  0.422670  0.459173  0.472055\n",
       "std    0.389499  0.262270  0.273866  0.422100\n",
       "min    0.027392  0.085990  0.178235  0.035815\n",
       "25%    0.387908  0.257978  0.245380  0.087820\n",
       "50%    0.767632  0.359915  0.298570  0.372276\n",
       "75%    0.914902  0.566728  0.742067  0.890284\n",
       "max    0.994721  0.863373  0.762514  0.940082"
      ]
     },
     "execution_count": 116,
     "metadata": {},
     "output_type": "execute_result"
    }
   ],
   "source": [
    "df.describe()"
   ]
  },
  {
   "cell_type": "code",
   "execution_count": 117,
   "metadata": {},
   "outputs": [],
   "source": [
    "arr = np.array([1,2,3,4,5,6]).reshape(2,3)"
   ]
  },
  {
   "cell_type": "code",
   "execution_count": 118,
   "metadata": {},
   "outputs": [
    {
     "data": {
      "text/plain": [
       "array([[1, 2, 3],\n",
       "       [4, 5, 6]])"
      ]
     },
     "execution_count": 118,
     "metadata": {},
     "output_type": "execute_result"
    }
   ],
   "source": [
    "arr"
   ]
  },
  {
   "cell_type": "code",
   "execution_count": 119,
   "metadata": {},
   "outputs": [
    {
     "data": {
      "text/plain": [
       "array([[1, 4],\n",
       "       [2, 5],\n",
       "       [3, 6]])"
      ]
     },
     "execution_count": 119,
     "metadata": {},
     "output_type": "execute_result"
    }
   ],
   "source": [
    "arr.T"
   ]
  },
  {
   "cell_type": "code",
   "execution_count": 120,
   "metadata": {},
   "outputs": [
    {
     "data": {
      "text/plain": [
       "array([[1, 2, 3],\n",
       "       [4, 5, 6]])"
      ]
     },
     "execution_count": 120,
     "metadata": {},
     "output_type": "execute_result"
    }
   ],
   "source": [
    "arr.T.T"
   ]
  },
  {
   "cell_type": "code",
   "execution_count": 121,
   "metadata": {},
   "outputs": [
    {
     "data": {
      "text/html": [
       "<div>\n",
       "<style scoped>\n",
       "    .dataframe tbody tr th:only-of-type {\n",
       "        vertical-align: middle;\n",
       "    }\n",
       "\n",
       "    .dataframe tbody tr th {\n",
       "        vertical-align: top;\n",
       "    }\n",
       "\n",
       "    .dataframe thead th {\n",
       "        text-align: right;\n",
       "    }\n",
       "</style>\n",
       "<table border=\"1\" class=\"dataframe\">\n",
       "  <thead>\n",
       "    <tr style=\"text-align: right;\">\n",
       "      <th></th>\n",
       "      <th>2021-03-09</th>\n",
       "      <th>2021-03-10</th>\n",
       "      <th>2021-03-11</th>\n",
       "      <th>2021-03-12</th>\n",
       "      <th>2021-03-13</th>\n",
       "      <th>2021-03-14</th>\n",
       "      <th>2021-03-15</th>\n",
       "    </tr>\n",
       "  </thead>\n",
       "  <tbody>\n",
       "    <tr>\n",
       "      <th>00.00</th>\n",
       "      <td>0.877720</td>\n",
       "      <td>0.767632</td>\n",
       "      <td>0.150353</td>\n",
       "      <td>0.952085</td>\n",
       "      <td>0.027392</td>\n",
       "      <td>0.994721</td>\n",
       "      <td>0.625464</td>\n",
       "    </tr>\n",
       "    <tr>\n",
       "      <th>06.00</th>\n",
       "      <td>0.577552</td>\n",
       "      <td>0.206914</td>\n",
       "      <td>0.085990</td>\n",
       "      <td>0.309042</td>\n",
       "      <td>0.555903</td>\n",
       "      <td>0.359915</td>\n",
       "      <td>0.863373</td>\n",
       "    </tr>\n",
       "    <tr>\n",
       "      <th>12.00</th>\n",
       "      <td>0.758236</td>\n",
       "      <td>0.298570</td>\n",
       "      <td>0.725898</td>\n",
       "      <td>0.178235</td>\n",
       "      <td>0.220048</td>\n",
       "      <td>0.762514</td>\n",
       "      <td>0.270713</td>\n",
       "    </tr>\n",
       "    <tr>\n",
       "      <th>18.00</th>\n",
       "      <td>0.843486</td>\n",
       "      <td>0.098235</td>\n",
       "      <td>0.077406</td>\n",
       "      <td>0.937082</td>\n",
       "      <td>0.035815</td>\n",
       "      <td>0.372276</td>\n",
       "      <td>0.940082</td>\n",
       "    </tr>\n",
       "  </tbody>\n",
       "</table>\n",
       "</div>"
      ],
      "text/plain": [
       "       2021-03-09  2021-03-10  2021-03-11  2021-03-12  2021-03-13  2021-03-14  \\\n",
       "00.00    0.877720    0.767632    0.150353    0.952085    0.027392    0.994721   \n",
       "06.00    0.577552    0.206914    0.085990    0.309042    0.555903    0.359915   \n",
       "12.00    0.758236    0.298570    0.725898    0.178235    0.220048    0.762514   \n",
       "18.00    0.843486    0.098235    0.077406    0.937082    0.035815    0.372276   \n",
       "\n",
       "       2021-03-15  \n",
       "00.00    0.625464  \n",
       "06.00    0.863373  \n",
       "12.00    0.270713  \n",
       "18.00    0.940082  "
      ]
     },
     "execution_count": 121,
     "metadata": {},
     "output_type": "execute_result"
    }
   ],
   "source": [
    "df.T"
   ]
  },
  {
   "cell_type": "code",
   "execution_count": 122,
   "metadata": {},
   "outputs": [
    {
     "data": {
      "text/html": [
       "<div>\n",
       "<style scoped>\n",
       "    .dataframe tbody tr th:only-of-type {\n",
       "        vertical-align: middle;\n",
       "    }\n",
       "\n",
       "    .dataframe tbody tr th {\n",
       "        vertical-align: top;\n",
       "    }\n",
       "\n",
       "    .dataframe thead th {\n",
       "        text-align: right;\n",
       "    }\n",
       "</style>\n",
       "<table border=\"1\" class=\"dataframe\">\n",
       "  <thead>\n",
       "    <tr style=\"text-align: right;\">\n",
       "      <th></th>\n",
       "      <th>00.00</th>\n",
       "      <th>06.00</th>\n",
       "      <th>12.00</th>\n",
       "      <th>18.00</th>\n",
       "    </tr>\n",
       "  </thead>\n",
       "  <tbody>\n",
       "    <tr>\n",
       "      <th>2021-03-09</th>\n",
       "      <td>0.877720</td>\n",
       "      <td>0.577552</td>\n",
       "      <td>0.758236</td>\n",
       "      <td>0.843486</td>\n",
       "    </tr>\n",
       "    <tr>\n",
       "      <th>2021-03-10</th>\n",
       "      <td>0.767632</td>\n",
       "      <td>0.206914</td>\n",
       "      <td>0.298570</td>\n",
       "      <td>0.098235</td>\n",
       "    </tr>\n",
       "    <tr>\n",
       "      <th>2021-03-11</th>\n",
       "      <td>0.150353</td>\n",
       "      <td>0.085990</td>\n",
       "      <td>0.725898</td>\n",
       "      <td>0.077406</td>\n",
       "    </tr>\n",
       "    <tr>\n",
       "      <th>2021-03-12</th>\n",
       "      <td>0.952085</td>\n",
       "      <td>0.309042</td>\n",
       "      <td>0.178235</td>\n",
       "      <td>0.937082</td>\n",
       "    </tr>\n",
       "    <tr>\n",
       "      <th>2021-03-13</th>\n",
       "      <td>0.027392</td>\n",
       "      <td>0.555903</td>\n",
       "      <td>0.220048</td>\n",
       "      <td>0.035815</td>\n",
       "    </tr>\n",
       "    <tr>\n",
       "      <th>2021-03-14</th>\n",
       "      <td>0.994721</td>\n",
       "      <td>0.359915</td>\n",
       "      <td>0.762514</td>\n",
       "      <td>0.372276</td>\n",
       "    </tr>\n",
       "    <tr>\n",
       "      <th>2021-03-15</th>\n",
       "      <td>0.625464</td>\n",
       "      <td>0.863373</td>\n",
       "      <td>0.270713</td>\n",
       "      <td>0.940082</td>\n",
       "    </tr>\n",
       "  </tbody>\n",
       "</table>\n",
       "</div>"
      ],
      "text/plain": [
       "               00.00     06.00     12.00     18.00\n",
       "2021-03-09  0.877720  0.577552  0.758236  0.843486\n",
       "2021-03-10  0.767632  0.206914  0.298570  0.098235\n",
       "2021-03-11  0.150353  0.085990  0.725898  0.077406\n",
       "2021-03-12  0.952085  0.309042  0.178235  0.937082\n",
       "2021-03-13  0.027392  0.555903  0.220048  0.035815\n",
       "2021-03-14  0.994721  0.359915  0.762514  0.372276\n",
       "2021-03-15  0.625464  0.863373  0.270713  0.940082"
      ]
     },
     "execution_count": 122,
     "metadata": {},
     "output_type": "execute_result"
    }
   ],
   "source": [
    "df"
   ]
  },
  {
   "cell_type": "code",
   "execution_count": 123,
   "metadata": {},
   "outputs": [
    {
     "data": {
      "text/html": [
       "<div>\n",
       "<style scoped>\n",
       "    .dataframe tbody tr th:only-of-type {\n",
       "        vertical-align: middle;\n",
       "    }\n",
       "\n",
       "    .dataframe tbody tr th {\n",
       "        vertical-align: top;\n",
       "    }\n",
       "\n",
       "    .dataframe thead th {\n",
       "        text-align: right;\n",
       "    }\n",
       "</style>\n",
       "<table border=\"1\" class=\"dataframe\">\n",
       "  <thead>\n",
       "    <tr style=\"text-align: right;\">\n",
       "      <th></th>\n",
       "      <th>00.00</th>\n",
       "      <th>06.00</th>\n",
       "      <th>12.00</th>\n",
       "      <th>18.00</th>\n",
       "    </tr>\n",
       "  </thead>\n",
       "  <tbody>\n",
       "    <tr>\n",
       "      <th>2021-03-09</th>\n",
       "      <td>0.877720</td>\n",
       "      <td>0.577552</td>\n",
       "      <td>0.758236</td>\n",
       "      <td>0.843486</td>\n",
       "    </tr>\n",
       "    <tr>\n",
       "      <th>2021-03-10</th>\n",
       "      <td>0.767632</td>\n",
       "      <td>0.206914</td>\n",
       "      <td>0.298570</td>\n",
       "      <td>0.098235</td>\n",
       "    </tr>\n",
       "    <tr>\n",
       "      <th>2021-03-11</th>\n",
       "      <td>0.150353</td>\n",
       "      <td>0.085990</td>\n",
       "      <td>0.725898</td>\n",
       "      <td>0.077406</td>\n",
       "    </tr>\n",
       "    <tr>\n",
       "      <th>2021-03-12</th>\n",
       "      <td>0.952085</td>\n",
       "      <td>0.309042</td>\n",
       "      <td>0.178235</td>\n",
       "      <td>0.937082</td>\n",
       "    </tr>\n",
       "    <tr>\n",
       "      <th>2021-03-13</th>\n",
       "      <td>0.027392</td>\n",
       "      <td>0.555903</td>\n",
       "      <td>0.220048</td>\n",
       "      <td>0.035815</td>\n",
       "    </tr>\n",
       "    <tr>\n",
       "      <th>2021-03-14</th>\n",
       "      <td>0.994721</td>\n",
       "      <td>0.359915</td>\n",
       "      <td>0.762514</td>\n",
       "      <td>0.372276</td>\n",
       "    </tr>\n",
       "    <tr>\n",
       "      <th>2021-03-15</th>\n",
       "      <td>0.625464</td>\n",
       "      <td>0.863373</td>\n",
       "      <td>0.270713</td>\n",
       "      <td>0.940082</td>\n",
       "    </tr>\n",
       "  </tbody>\n",
       "</table>\n",
       "</div>"
      ],
      "text/plain": [
       "               00.00     06.00     12.00     18.00\n",
       "2021-03-09  0.877720  0.577552  0.758236  0.843486\n",
       "2021-03-10  0.767632  0.206914  0.298570  0.098235\n",
       "2021-03-11  0.150353  0.085990  0.725898  0.077406\n",
       "2021-03-12  0.952085  0.309042  0.178235  0.937082\n",
       "2021-03-13  0.027392  0.555903  0.220048  0.035815\n",
       "2021-03-14  0.994721  0.359915  0.762514  0.372276\n",
       "2021-03-15  0.625464  0.863373  0.270713  0.940082"
      ]
     },
     "execution_count": 123,
     "metadata": {},
     "output_type": "execute_result"
    }
   ],
   "source": [
    "df.sort_index(axis=0)"
   ]
  },
  {
   "cell_type": "code",
   "execution_count": 124,
   "metadata": {},
   "outputs": [
    {
     "data": {
      "text/html": [
       "<div>\n",
       "<style scoped>\n",
       "    .dataframe tbody tr th:only-of-type {\n",
       "        vertical-align: middle;\n",
       "    }\n",
       "\n",
       "    .dataframe tbody tr th {\n",
       "        vertical-align: top;\n",
       "    }\n",
       "\n",
       "    .dataframe thead th {\n",
       "        text-align: right;\n",
       "    }\n",
       "</style>\n",
       "<table border=\"1\" class=\"dataframe\">\n",
       "  <thead>\n",
       "    <tr style=\"text-align: right;\">\n",
       "      <th></th>\n",
       "      <th>00.00</th>\n",
       "      <th>06.00</th>\n",
       "      <th>12.00</th>\n",
       "      <th>18.00</th>\n",
       "    </tr>\n",
       "  </thead>\n",
       "  <tbody>\n",
       "    <tr>\n",
       "      <th>2021-03-15</th>\n",
       "      <td>0.625464</td>\n",
       "      <td>0.863373</td>\n",
       "      <td>0.270713</td>\n",
       "      <td>0.940082</td>\n",
       "    </tr>\n",
       "    <tr>\n",
       "      <th>2021-03-14</th>\n",
       "      <td>0.994721</td>\n",
       "      <td>0.359915</td>\n",
       "      <td>0.762514</td>\n",
       "      <td>0.372276</td>\n",
       "    </tr>\n",
       "    <tr>\n",
       "      <th>2021-03-13</th>\n",
       "      <td>0.027392</td>\n",
       "      <td>0.555903</td>\n",
       "      <td>0.220048</td>\n",
       "      <td>0.035815</td>\n",
       "    </tr>\n",
       "    <tr>\n",
       "      <th>2021-03-12</th>\n",
       "      <td>0.952085</td>\n",
       "      <td>0.309042</td>\n",
       "      <td>0.178235</td>\n",
       "      <td>0.937082</td>\n",
       "    </tr>\n",
       "    <tr>\n",
       "      <th>2021-03-11</th>\n",
       "      <td>0.150353</td>\n",
       "      <td>0.085990</td>\n",
       "      <td>0.725898</td>\n",
       "      <td>0.077406</td>\n",
       "    </tr>\n",
       "    <tr>\n",
       "      <th>2021-03-10</th>\n",
       "      <td>0.767632</td>\n",
       "      <td>0.206914</td>\n",
       "      <td>0.298570</td>\n",
       "      <td>0.098235</td>\n",
       "    </tr>\n",
       "    <tr>\n",
       "      <th>2021-03-09</th>\n",
       "      <td>0.877720</td>\n",
       "      <td>0.577552</td>\n",
       "      <td>0.758236</td>\n",
       "      <td>0.843486</td>\n",
       "    </tr>\n",
       "  </tbody>\n",
       "</table>\n",
       "</div>"
      ],
      "text/plain": [
       "               00.00     06.00     12.00     18.00\n",
       "2021-03-15  0.625464  0.863373  0.270713  0.940082\n",
       "2021-03-14  0.994721  0.359915  0.762514  0.372276\n",
       "2021-03-13  0.027392  0.555903  0.220048  0.035815\n",
       "2021-03-12  0.952085  0.309042  0.178235  0.937082\n",
       "2021-03-11  0.150353  0.085990  0.725898  0.077406\n",
       "2021-03-10  0.767632  0.206914  0.298570  0.098235\n",
       "2021-03-09  0.877720  0.577552  0.758236  0.843486"
      ]
     },
     "execution_count": 124,
     "metadata": {},
     "output_type": "execute_result"
    }
   ],
   "source": [
    "df.sort_index(axis=0, ascending=False)"
   ]
  },
  {
   "cell_type": "code",
   "execution_count": 125,
   "metadata": {},
   "outputs": [
    {
     "data": {
      "text/html": [
       "<div>\n",
       "<style scoped>\n",
       "    .dataframe tbody tr th:only-of-type {\n",
       "        vertical-align: middle;\n",
       "    }\n",
       "\n",
       "    .dataframe tbody tr th {\n",
       "        vertical-align: top;\n",
       "    }\n",
       "\n",
       "    .dataframe thead th {\n",
       "        text-align: right;\n",
       "    }\n",
       "</style>\n",
       "<table border=\"1\" class=\"dataframe\">\n",
       "  <thead>\n",
       "    <tr style=\"text-align: right;\">\n",
       "      <th></th>\n",
       "      <th>18.00</th>\n",
       "      <th>12.00</th>\n",
       "      <th>06.00</th>\n",
       "      <th>00.00</th>\n",
       "    </tr>\n",
       "  </thead>\n",
       "  <tbody>\n",
       "    <tr>\n",
       "      <th>2021-03-09</th>\n",
       "      <td>0.843486</td>\n",
       "      <td>0.758236</td>\n",
       "      <td>0.577552</td>\n",
       "      <td>0.877720</td>\n",
       "    </tr>\n",
       "    <tr>\n",
       "      <th>2021-03-10</th>\n",
       "      <td>0.098235</td>\n",
       "      <td>0.298570</td>\n",
       "      <td>0.206914</td>\n",
       "      <td>0.767632</td>\n",
       "    </tr>\n",
       "    <tr>\n",
       "      <th>2021-03-11</th>\n",
       "      <td>0.077406</td>\n",
       "      <td>0.725898</td>\n",
       "      <td>0.085990</td>\n",
       "      <td>0.150353</td>\n",
       "    </tr>\n",
       "    <tr>\n",
       "      <th>2021-03-12</th>\n",
       "      <td>0.937082</td>\n",
       "      <td>0.178235</td>\n",
       "      <td>0.309042</td>\n",
       "      <td>0.952085</td>\n",
       "    </tr>\n",
       "    <tr>\n",
       "      <th>2021-03-13</th>\n",
       "      <td>0.035815</td>\n",
       "      <td>0.220048</td>\n",
       "      <td>0.555903</td>\n",
       "      <td>0.027392</td>\n",
       "    </tr>\n",
       "    <tr>\n",
       "      <th>2021-03-14</th>\n",
       "      <td>0.372276</td>\n",
       "      <td>0.762514</td>\n",
       "      <td>0.359915</td>\n",
       "      <td>0.994721</td>\n",
       "    </tr>\n",
       "    <tr>\n",
       "      <th>2021-03-15</th>\n",
       "      <td>0.940082</td>\n",
       "      <td>0.270713</td>\n",
       "      <td>0.863373</td>\n",
       "      <td>0.625464</td>\n",
       "    </tr>\n",
       "  </tbody>\n",
       "</table>\n",
       "</div>"
      ],
      "text/plain": [
       "               18.00     12.00     06.00     00.00\n",
       "2021-03-09  0.843486  0.758236  0.577552  0.877720\n",
       "2021-03-10  0.098235  0.298570  0.206914  0.767632\n",
       "2021-03-11  0.077406  0.725898  0.085990  0.150353\n",
       "2021-03-12  0.937082  0.178235  0.309042  0.952085\n",
       "2021-03-13  0.035815  0.220048  0.555903  0.027392\n",
       "2021-03-14  0.372276  0.762514  0.359915  0.994721\n",
       "2021-03-15  0.940082  0.270713  0.863373  0.625464"
      ]
     },
     "execution_count": 125,
     "metadata": {},
     "output_type": "execute_result"
    }
   ],
   "source": [
    "df.sort_index(axis=1, ascending=False)"
   ]
  },
  {
   "cell_type": "code",
   "execution_count": 126,
   "metadata": {},
   "outputs": [
    {
     "data": {
      "text/html": [
       "<div>\n",
       "<style scoped>\n",
       "    .dataframe tbody tr th:only-of-type {\n",
       "        vertical-align: middle;\n",
       "    }\n",
       "\n",
       "    .dataframe tbody tr th {\n",
       "        vertical-align: top;\n",
       "    }\n",
       "\n",
       "    .dataframe thead th {\n",
       "        text-align: right;\n",
       "    }\n",
       "</style>\n",
       "<table border=\"1\" class=\"dataframe\">\n",
       "  <thead>\n",
       "    <tr style=\"text-align: right;\">\n",
       "      <th></th>\n",
       "      <th>00.00</th>\n",
       "      <th>06.00</th>\n",
       "      <th>12.00</th>\n",
       "      <th>18.00</th>\n",
       "    </tr>\n",
       "  </thead>\n",
       "  <tbody>\n",
       "    <tr>\n",
       "      <th>2021-03-11</th>\n",
       "      <td>0.150353</td>\n",
       "      <td>0.085990</td>\n",
       "      <td>0.725898</td>\n",
       "      <td>0.077406</td>\n",
       "    </tr>\n",
       "    <tr>\n",
       "      <th>2021-03-10</th>\n",
       "      <td>0.767632</td>\n",
       "      <td>0.206914</td>\n",
       "      <td>0.298570</td>\n",
       "      <td>0.098235</td>\n",
       "    </tr>\n",
       "    <tr>\n",
       "      <th>2021-03-12</th>\n",
       "      <td>0.952085</td>\n",
       "      <td>0.309042</td>\n",
       "      <td>0.178235</td>\n",
       "      <td>0.937082</td>\n",
       "    </tr>\n",
       "    <tr>\n",
       "      <th>2021-03-14</th>\n",
       "      <td>0.994721</td>\n",
       "      <td>0.359915</td>\n",
       "      <td>0.762514</td>\n",
       "      <td>0.372276</td>\n",
       "    </tr>\n",
       "    <tr>\n",
       "      <th>2021-03-13</th>\n",
       "      <td>0.027392</td>\n",
       "      <td>0.555903</td>\n",
       "      <td>0.220048</td>\n",
       "      <td>0.035815</td>\n",
       "    </tr>\n",
       "    <tr>\n",
       "      <th>2021-03-09</th>\n",
       "      <td>0.877720</td>\n",
       "      <td>0.577552</td>\n",
       "      <td>0.758236</td>\n",
       "      <td>0.843486</td>\n",
       "    </tr>\n",
       "    <tr>\n",
       "      <th>2021-03-15</th>\n",
       "      <td>0.625464</td>\n",
       "      <td>0.863373</td>\n",
       "      <td>0.270713</td>\n",
       "      <td>0.940082</td>\n",
       "    </tr>\n",
       "  </tbody>\n",
       "</table>\n",
       "</div>"
      ],
      "text/plain": [
       "               00.00     06.00     12.00     18.00\n",
       "2021-03-11  0.150353  0.085990  0.725898  0.077406\n",
       "2021-03-10  0.767632  0.206914  0.298570  0.098235\n",
       "2021-03-12  0.952085  0.309042  0.178235  0.937082\n",
       "2021-03-14  0.994721  0.359915  0.762514  0.372276\n",
       "2021-03-13  0.027392  0.555903  0.220048  0.035815\n",
       "2021-03-09  0.877720  0.577552  0.758236  0.843486\n",
       "2021-03-15  0.625464  0.863373  0.270713  0.940082"
      ]
     },
     "execution_count": 126,
     "metadata": {},
     "output_type": "execute_result"
    }
   ],
   "source": [
    "df.sort_values(by=\"06.00\")"
   ]
  },
  {
   "cell_type": "code",
   "execution_count": 127,
   "metadata": {},
   "outputs": [
    {
     "data": {
      "text/plain": [
       "2021-03-09    0.577552\n",
       "2021-03-10    0.206914\n",
       "2021-03-11    0.085990\n",
       "2021-03-12    0.309042\n",
       "2021-03-13    0.555903\n",
       "2021-03-14    0.359915\n",
       "2021-03-15    0.863373\n",
       "Freq: D, Name: 06.00, dtype: float64"
      ]
     },
     "execution_count": 127,
     "metadata": {},
     "output_type": "execute_result"
    }
   ],
   "source": [
    "df[\"06.00\"]"
   ]
  },
  {
   "cell_type": "code",
   "execution_count": 128,
   "metadata": {},
   "outputs": [
    {
     "data": {
      "text/html": [
       "<div>\n",
       "<style scoped>\n",
       "    .dataframe tbody tr th:only-of-type {\n",
       "        vertical-align: middle;\n",
       "    }\n",
       "\n",
       "    .dataframe tbody tr th {\n",
       "        vertical-align: top;\n",
       "    }\n",
       "\n",
       "    .dataframe thead th {\n",
       "        text-align: right;\n",
       "    }\n",
       "</style>\n",
       "<table border=\"1\" class=\"dataframe\">\n",
       "  <thead>\n",
       "    <tr style=\"text-align: right;\">\n",
       "      <th></th>\n",
       "      <th>00.00</th>\n",
       "      <th>06.00</th>\n",
       "      <th>12.00</th>\n",
       "      <th>18.00</th>\n",
       "    </tr>\n",
       "  </thead>\n",
       "  <tbody>\n",
       "    <tr>\n",
       "      <th>2021-03-09</th>\n",
       "      <td>0.877720</td>\n",
       "      <td>0.577552</td>\n",
       "      <td>0.758236</td>\n",
       "      <td>0.843486</td>\n",
       "    </tr>\n",
       "    <tr>\n",
       "      <th>2021-03-10</th>\n",
       "      <td>0.767632</td>\n",
       "      <td>0.206914</td>\n",
       "      <td>0.298570</td>\n",
       "      <td>0.098235</td>\n",
       "    </tr>\n",
       "    <tr>\n",
       "      <th>2021-03-11</th>\n",
       "      <td>0.150353</td>\n",
       "      <td>0.085990</td>\n",
       "      <td>0.725898</td>\n",
       "      <td>0.077406</td>\n",
       "    </tr>\n",
       "  </tbody>\n",
       "</table>\n",
       "</div>"
      ],
      "text/plain": [
       "               00.00     06.00     12.00     18.00\n",
       "2021-03-09  0.877720  0.577552  0.758236  0.843486\n",
       "2021-03-10  0.767632  0.206914  0.298570  0.098235\n",
       "2021-03-11  0.150353  0.085990  0.725898  0.077406"
      ]
     },
     "execution_count": 128,
     "metadata": {},
     "output_type": "execute_result"
    }
   ],
   "source": [
    "df[0:3]"
   ]
  },
  {
   "cell_type": "code",
   "execution_count": 129,
   "metadata": {},
   "outputs": [
    {
     "data": {
      "text/html": [
       "<div>\n",
       "<style scoped>\n",
       "    .dataframe tbody tr th:only-of-type {\n",
       "        vertical-align: middle;\n",
       "    }\n",
       "\n",
       "    .dataframe tbody tr th {\n",
       "        vertical-align: top;\n",
       "    }\n",
       "\n",
       "    .dataframe thead th {\n",
       "        text-align: right;\n",
       "    }\n",
       "</style>\n",
       "<table border=\"1\" class=\"dataframe\">\n",
       "  <thead>\n",
       "    <tr style=\"text-align: right;\">\n",
       "      <th></th>\n",
       "      <th>00.00</th>\n",
       "      <th>06.00</th>\n",
       "      <th>12.00</th>\n",
       "      <th>18.00</th>\n",
       "    </tr>\n",
       "  </thead>\n",
       "  <tbody>\n",
       "    <tr>\n",
       "      <th>2021-03-09</th>\n",
       "      <td>0.877720</td>\n",
       "      <td>0.577552</td>\n",
       "      <td>0.758236</td>\n",
       "      <td>0.843486</td>\n",
       "    </tr>\n",
       "    <tr>\n",
       "      <th>2021-03-10</th>\n",
       "      <td>0.767632</td>\n",
       "      <td>0.206914</td>\n",
       "      <td>0.298570</td>\n",
       "      <td>0.098235</td>\n",
       "    </tr>\n",
       "    <tr>\n",
       "      <th>2021-03-11</th>\n",
       "      <td>0.150353</td>\n",
       "      <td>0.085990</td>\n",
       "      <td>0.725898</td>\n",
       "      <td>0.077406</td>\n",
       "    </tr>\n",
       "    <tr>\n",
       "      <th>2021-03-12</th>\n",
       "      <td>0.952085</td>\n",
       "      <td>0.309042</td>\n",
       "      <td>0.178235</td>\n",
       "      <td>0.937082</td>\n",
       "    </tr>\n",
       "    <tr>\n",
       "      <th>2021-03-13</th>\n",
       "      <td>0.027392</td>\n",
       "      <td>0.555903</td>\n",
       "      <td>0.220048</td>\n",
       "      <td>0.035815</td>\n",
       "    </tr>\n",
       "  </tbody>\n",
       "</table>\n",
       "</div>"
      ],
      "text/plain": [
       "               00.00     06.00     12.00     18.00\n",
       "2021-03-09  0.877720  0.577552  0.758236  0.843486\n",
       "2021-03-10  0.767632  0.206914  0.298570  0.098235\n",
       "2021-03-11  0.150353  0.085990  0.725898  0.077406\n",
       "2021-03-12  0.952085  0.309042  0.178235  0.937082\n",
       "2021-03-13  0.027392  0.555903  0.220048  0.035815"
      ]
     },
     "execution_count": 129,
     "metadata": {},
     "output_type": "execute_result"
    }
   ],
   "source": [
    "df.head()"
   ]
  },
  {
   "cell_type": "code",
   "execution_count": 130,
   "metadata": {},
   "outputs": [],
   "source": [
    "idx = df.index[0]"
   ]
  },
  {
   "cell_type": "code",
   "execution_count": 131,
   "metadata": {},
   "outputs": [
    {
     "data": {
      "text/plain": [
       "Timestamp('2021-03-09 00:00:00', freq='D')"
      ]
     },
     "execution_count": 131,
     "metadata": {},
     "output_type": "execute_result"
    }
   ],
   "source": [
    "idx"
   ]
  },
  {
   "cell_type": "code",
   "execution_count": 132,
   "metadata": {},
   "outputs": [
    {
     "data": {
      "text/plain": [
       "00.00    0.877720\n",
       "06.00    0.577552\n",
       "12.00    0.758236\n",
       "18.00    0.843486\n",
       "Name: 2021-03-09 00:00:00, dtype: float64"
      ]
     },
     "execution_count": 132,
     "metadata": {},
     "output_type": "execute_result"
    }
   ],
   "source": [
    "df.loc[idx]"
   ]
  },
  {
   "cell_type": "code",
   "execution_count": 133,
   "metadata": {},
   "outputs": [
    {
     "data": {
      "text/html": [
       "<div>\n",
       "<style scoped>\n",
       "    .dataframe tbody tr th:only-of-type {\n",
       "        vertical-align: middle;\n",
       "    }\n",
       "\n",
       "    .dataframe tbody tr th {\n",
       "        vertical-align: top;\n",
       "    }\n",
       "\n",
       "    .dataframe thead th {\n",
       "        text-align: right;\n",
       "    }\n",
       "</style>\n",
       "<table border=\"1\" class=\"dataframe\">\n",
       "  <thead>\n",
       "    <tr style=\"text-align: right;\">\n",
       "      <th></th>\n",
       "      <th>00.00</th>\n",
       "      <th>18.00</th>\n",
       "    </tr>\n",
       "  </thead>\n",
       "  <tbody>\n",
       "    <tr>\n",
       "      <th>2021-03-12</th>\n",
       "      <td>0.952085</td>\n",
       "      <td>0.937082</td>\n",
       "    </tr>\n",
       "    <tr>\n",
       "      <th>2021-03-13</th>\n",
       "      <td>0.027392</td>\n",
       "      <td>0.035815</td>\n",
       "    </tr>\n",
       "    <tr>\n",
       "      <th>2021-03-14</th>\n",
       "      <td>0.994721</td>\n",
       "      <td>0.372276</td>\n",
       "    </tr>\n",
       "  </tbody>\n",
       "</table>\n",
       "</div>"
      ],
      "text/plain": [
       "               00.00     18.00\n",
       "2021-03-12  0.952085  0.937082\n",
       "2021-03-13  0.027392  0.035815\n",
       "2021-03-14  0.994721  0.372276"
      ]
     },
     "execution_count": 133,
     "metadata": {},
     "output_type": "execute_result"
    }
   ],
   "source": [
    "df.loc[\"2021-03-12\": \"2021-03-14\", [\"00.00\",\"18.00\"]]"
   ]
  },
  {
   "cell_type": "code",
   "execution_count": 134,
   "metadata": {},
   "outputs": [
    {
     "data": {
      "text/plain": [
       "0.9520849220961833"
      ]
     },
     "execution_count": 134,
     "metadata": {},
     "output_type": "execute_result"
    }
   ],
   "source": [
    "df.loc[\"2021-03-12\", \"00.00\"]"
   ]
  },
  {
   "cell_type": "code",
   "execution_count": 135,
   "metadata": {},
   "outputs": [],
   "source": [
    "import time"
   ]
  },
  {
   "cell_type": "code",
   "execution_count": 136,
   "metadata": {},
   "outputs": [
    {
     "name": "stdout",
     "output_type": "stream",
     "text": [
      "Değer: 0.994720826768822\n",
      "0.000997304916381836\n"
     ]
    }
   ],
   "source": [
    "start = time.time()\n",
    "print(\"Değer:\", df.loc[\"2021-03-14\", \"00.00\"])\n",
    "print(time.time()-start)"
   ]
  },
  {
   "cell_type": "code",
   "execution_count": 137,
   "metadata": {},
   "outputs": [
    {
     "name": "stdout",
     "output_type": "stream",
     "text": [
      "Değer: 0.994720826768822\n",
      "0.000993490219116211\n"
     ]
    }
   ],
   "source": [
    "start = time.time()\n",
    "print(\"Değer:\", df.at[\"2021-03-14\", \"00.00\"])\n",
    "print(time.time()-start)"
   ]
  },
  {
   "cell_type": "code",
   "execution_count": 138,
   "metadata": {},
   "outputs": [
    {
     "data": {
      "text/html": [
       "<div>\n",
       "<style scoped>\n",
       "    .dataframe tbody tr th:only-of-type {\n",
       "        vertical-align: middle;\n",
       "    }\n",
       "\n",
       "    .dataframe tbody tr th {\n",
       "        vertical-align: top;\n",
       "    }\n",
       "\n",
       "    .dataframe thead th {\n",
       "        text-align: right;\n",
       "    }\n",
       "</style>\n",
       "<table border=\"1\" class=\"dataframe\">\n",
       "  <thead>\n",
       "    <tr style=\"text-align: right;\">\n",
       "      <th></th>\n",
       "      <th>00.00</th>\n",
       "      <th>06.00</th>\n",
       "      <th>12.00</th>\n",
       "      <th>18.00</th>\n",
       "    </tr>\n",
       "  </thead>\n",
       "  <tbody>\n",
       "    <tr>\n",
       "      <th>2021-03-09</th>\n",
       "      <td>0.877720</td>\n",
       "      <td>0.577552</td>\n",
       "      <td>0.758236</td>\n",
       "      <td>0.843486</td>\n",
       "    </tr>\n",
       "    <tr>\n",
       "      <th>2021-03-10</th>\n",
       "      <td>0.767632</td>\n",
       "      <td>0.206914</td>\n",
       "      <td>0.298570</td>\n",
       "      <td>0.098235</td>\n",
       "    </tr>\n",
       "    <tr>\n",
       "      <th>2021-03-11</th>\n",
       "      <td>0.150353</td>\n",
       "      <td>0.085990</td>\n",
       "      <td>0.725898</td>\n",
       "      <td>0.077406</td>\n",
       "    </tr>\n",
       "    <tr>\n",
       "      <th>2021-03-12</th>\n",
       "      <td>0.952085</td>\n",
       "      <td>0.309042</td>\n",
       "      <td>0.178235</td>\n",
       "      <td>0.937082</td>\n",
       "    </tr>\n",
       "    <tr>\n",
       "      <th>2021-03-13</th>\n",
       "      <td>0.027392</td>\n",
       "      <td>0.555903</td>\n",
       "      <td>0.220048</td>\n",
       "      <td>0.035815</td>\n",
       "    </tr>\n",
       "    <tr>\n",
       "      <th>2021-03-14</th>\n",
       "      <td>0.994721</td>\n",
       "      <td>0.359915</td>\n",
       "      <td>0.762514</td>\n",
       "      <td>0.372276</td>\n",
       "    </tr>\n",
       "    <tr>\n",
       "      <th>2021-03-15</th>\n",
       "      <td>0.625464</td>\n",
       "      <td>0.863373</td>\n",
       "      <td>0.270713</td>\n",
       "      <td>0.940082</td>\n",
       "    </tr>\n",
       "  </tbody>\n",
       "</table>\n",
       "</div>"
      ],
      "text/plain": [
       "               00.00     06.00     12.00     18.00\n",
       "2021-03-09  0.877720  0.577552  0.758236  0.843486\n",
       "2021-03-10  0.767632  0.206914  0.298570  0.098235\n",
       "2021-03-11  0.150353  0.085990  0.725898  0.077406\n",
       "2021-03-12  0.952085  0.309042  0.178235  0.937082\n",
       "2021-03-13  0.027392  0.555903  0.220048  0.035815\n",
       "2021-03-14  0.994721  0.359915  0.762514  0.372276\n",
       "2021-03-15  0.625464  0.863373  0.270713  0.940082"
      ]
     },
     "execution_count": 138,
     "metadata": {},
     "output_type": "execute_result"
    }
   ],
   "source": [
    "df"
   ]
  },
  {
   "cell_type": "code",
   "execution_count": 139,
   "metadata": {},
   "outputs": [
    {
     "data": {
      "text/html": [
       "<div>\n",
       "<style scoped>\n",
       "    .dataframe tbody tr th:only-of-type {\n",
       "        vertical-align: middle;\n",
       "    }\n",
       "\n",
       "    .dataframe tbody tr th {\n",
       "        vertical-align: top;\n",
       "    }\n",
       "\n",
       "    .dataframe thead th {\n",
       "        text-align: right;\n",
       "    }\n",
       "</style>\n",
       "<table border=\"1\" class=\"dataframe\">\n",
       "  <thead>\n",
       "    <tr style=\"text-align: right;\">\n",
       "      <th></th>\n",
       "      <th>00.00</th>\n",
       "      <th>06.00</th>\n",
       "    </tr>\n",
       "  </thead>\n",
       "  <tbody>\n",
       "    <tr>\n",
       "      <th>2021-03-09</th>\n",
       "      <td>0.877720</td>\n",
       "      <td>0.577552</td>\n",
       "    </tr>\n",
       "    <tr>\n",
       "      <th>2021-03-10</th>\n",
       "      <td>0.767632</td>\n",
       "      <td>0.206914</td>\n",
       "    </tr>\n",
       "    <tr>\n",
       "      <th>2021-03-11</th>\n",
       "      <td>0.150353</td>\n",
       "      <td>0.085990</td>\n",
       "    </tr>\n",
       "    <tr>\n",
       "      <th>2021-03-12</th>\n",
       "      <td>0.952085</td>\n",
       "      <td>0.309042</td>\n",
       "    </tr>\n",
       "  </tbody>\n",
       "</table>\n",
       "</div>"
      ],
      "text/plain": [
       "               00.00     06.00\n",
       "2021-03-09  0.877720  0.577552\n",
       "2021-03-10  0.767632  0.206914\n",
       "2021-03-11  0.150353  0.085990\n",
       "2021-03-12  0.952085  0.309042"
      ]
     },
     "execution_count": 139,
     "metadata": {},
     "output_type": "execute_result"
    }
   ],
   "source": [
    "df.iloc[0:4, 0:2]"
   ]
  },
  {
   "cell_type": "code",
   "execution_count": 140,
   "metadata": {},
   "outputs": [
    {
     "data": {
      "text/html": [
       "<div>\n",
       "<style scoped>\n",
       "    .dataframe tbody tr th:only-of-type {\n",
       "        vertical-align: middle;\n",
       "    }\n",
       "\n",
       "    .dataframe tbody tr th {\n",
       "        vertical-align: top;\n",
       "    }\n",
       "\n",
       "    .dataframe thead th {\n",
       "        text-align: right;\n",
       "    }\n",
       "</style>\n",
       "<table border=\"1\" class=\"dataframe\">\n",
       "  <thead>\n",
       "    <tr style=\"text-align: right;\">\n",
       "      <th></th>\n",
       "      <th>12.00</th>\n",
       "      <th>18.00</th>\n",
       "    </tr>\n",
       "  </thead>\n",
       "  <tbody>\n",
       "    <tr>\n",
       "      <th>2021-03-09</th>\n",
       "      <td>0.758236</td>\n",
       "      <td>0.843486</td>\n",
       "    </tr>\n",
       "    <tr>\n",
       "      <th>2021-03-11</th>\n",
       "      <td>0.725898</td>\n",
       "      <td>0.077406</td>\n",
       "    </tr>\n",
       "    <tr>\n",
       "      <th>2021-03-13</th>\n",
       "      <td>0.220048</td>\n",
       "      <td>0.035815</td>\n",
       "    </tr>\n",
       "  </tbody>\n",
       "</table>\n",
       "</div>"
      ],
      "text/plain": [
       "               12.00     18.00\n",
       "2021-03-09  0.758236  0.843486\n",
       "2021-03-11  0.725898  0.077406\n",
       "2021-03-13  0.220048  0.035815"
      ]
     },
     "execution_count": 140,
     "metadata": {},
     "output_type": "execute_result"
    }
   ],
   "source": [
    "df.iloc[[0,2,4],[2,3]]"
   ]
  },
  {
   "cell_type": "code",
   "execution_count": 141,
   "metadata": {},
   "outputs": [
    {
     "data": {
      "text/html": [
       "<div>\n",
       "<style scoped>\n",
       "    .dataframe tbody tr th:only-of-type {\n",
       "        vertical-align: middle;\n",
       "    }\n",
       "\n",
       "    .dataframe tbody tr th {\n",
       "        vertical-align: top;\n",
       "    }\n",
       "\n",
       "    .dataframe thead th {\n",
       "        text-align: right;\n",
       "    }\n",
       "</style>\n",
       "<table border=\"1\" class=\"dataframe\">\n",
       "  <thead>\n",
       "    <tr style=\"text-align: right;\">\n",
       "      <th></th>\n",
       "      <th>00.00</th>\n",
       "      <th>06.00</th>\n",
       "      <th>12.00</th>\n",
       "      <th>18.00</th>\n",
       "    </tr>\n",
       "  </thead>\n",
       "  <tbody>\n",
       "    <tr>\n",
       "      <th>2021-03-09</th>\n",
       "      <td>0.877720</td>\n",
       "      <td>0.577552</td>\n",
       "      <td>0.758236</td>\n",
       "      <td>0.843486</td>\n",
       "    </tr>\n",
       "    <tr>\n",
       "      <th>2021-03-10</th>\n",
       "      <td>0.767632</td>\n",
       "      <td>0.206914</td>\n",
       "      <td>0.298570</td>\n",
       "      <td>0.098235</td>\n",
       "    </tr>\n",
       "    <tr>\n",
       "      <th>2021-03-11</th>\n",
       "      <td>0.150353</td>\n",
       "      <td>0.085990</td>\n",
       "      <td>0.725898</td>\n",
       "      <td>0.077406</td>\n",
       "    </tr>\n",
       "    <tr>\n",
       "      <th>2021-03-12</th>\n",
       "      <td>0.952085</td>\n",
       "      <td>0.309042</td>\n",
       "      <td>0.178235</td>\n",
       "      <td>0.937082</td>\n",
       "    </tr>\n",
       "    <tr>\n",
       "      <th>2021-03-13</th>\n",
       "      <td>0.027392</td>\n",
       "      <td>0.555903</td>\n",
       "      <td>0.220048</td>\n",
       "      <td>0.035815</td>\n",
       "    </tr>\n",
       "    <tr>\n",
       "      <th>2021-03-14</th>\n",
       "      <td>0.994721</td>\n",
       "      <td>0.359915</td>\n",
       "      <td>0.762514</td>\n",
       "      <td>0.372276</td>\n",
       "    </tr>\n",
       "    <tr>\n",
       "      <th>2021-03-15</th>\n",
       "      <td>0.625464</td>\n",
       "      <td>0.863373</td>\n",
       "      <td>0.270713</td>\n",
       "      <td>0.940082</td>\n",
       "    </tr>\n",
       "  </tbody>\n",
       "</table>\n",
       "</div>"
      ],
      "text/plain": [
       "               00.00     06.00     12.00     18.00\n",
       "2021-03-09  0.877720  0.577552  0.758236  0.843486\n",
       "2021-03-10  0.767632  0.206914  0.298570  0.098235\n",
       "2021-03-11  0.150353  0.085990  0.725898  0.077406\n",
       "2021-03-12  0.952085  0.309042  0.178235  0.937082\n",
       "2021-03-13  0.027392  0.555903  0.220048  0.035815\n",
       "2021-03-14  0.994721  0.359915  0.762514  0.372276\n",
       "2021-03-15  0.625464  0.863373  0.270713  0.940082"
      ]
     },
     "execution_count": 141,
     "metadata": {},
     "output_type": "execute_result"
    }
   ],
   "source": [
    "df"
   ]
  },
  {
   "cell_type": "code",
   "execution_count": 142,
   "metadata": {},
   "outputs": [
    {
     "data": {
      "text/html": [
       "<div>\n",
       "<style scoped>\n",
       "    .dataframe tbody tr th:only-of-type {\n",
       "        vertical-align: middle;\n",
       "    }\n",
       "\n",
       "    .dataframe tbody tr th {\n",
       "        vertical-align: top;\n",
       "    }\n",
       "\n",
       "    .dataframe thead th {\n",
       "        text-align: right;\n",
       "    }\n",
       "</style>\n",
       "<table border=\"1\" class=\"dataframe\">\n",
       "  <thead>\n",
       "    <tr style=\"text-align: right;\">\n",
       "      <th></th>\n",
       "      <th>00.00</th>\n",
       "      <th>06.00</th>\n",
       "      <th>12.00</th>\n",
       "      <th>18.00</th>\n",
       "    </tr>\n",
       "  </thead>\n",
       "  <tbody>\n",
       "    <tr>\n",
       "      <th>2021-03-09</th>\n",
       "      <td>0.877720</td>\n",
       "      <td>0.577552</td>\n",
       "      <td>0.758236</td>\n",
       "      <td>0.843486</td>\n",
       "    </tr>\n",
       "    <tr>\n",
       "      <th>2021-03-11</th>\n",
       "      <td>0.150353</td>\n",
       "      <td>0.085990</td>\n",
       "      <td>0.725898</td>\n",
       "      <td>0.077406</td>\n",
       "    </tr>\n",
       "    <tr>\n",
       "      <th>2021-03-14</th>\n",
       "      <td>0.994721</td>\n",
       "      <td>0.359915</td>\n",
       "      <td>0.762514</td>\n",
       "      <td>0.372276</td>\n",
       "    </tr>\n",
       "  </tbody>\n",
       "</table>\n",
       "</div>"
      ],
      "text/plain": [
       "               00.00     06.00     12.00     18.00\n",
       "2021-03-09  0.877720  0.577552  0.758236  0.843486\n",
       "2021-03-11  0.150353  0.085990  0.725898  0.077406\n",
       "2021-03-14  0.994721  0.359915  0.762514  0.372276"
      ]
     },
     "execution_count": 142,
     "metadata": {},
     "output_type": "execute_result"
    }
   ],
   "source": [
    "df[df[\"12.00\"] > 0.5]"
   ]
  },
  {
   "cell_type": "code",
   "execution_count": 143,
   "metadata": {},
   "outputs": [
    {
     "data": {
      "text/plain": [
       "2021-03-09     True\n",
       "2021-03-10    False\n",
       "2021-03-11     True\n",
       "2021-03-12    False\n",
       "2021-03-13    False\n",
       "2021-03-14     True\n",
       "2021-03-15    False\n",
       "Freq: D, Name: 12.00, dtype: bool"
      ]
     },
     "execution_count": 143,
     "metadata": {},
     "output_type": "execute_result"
    }
   ],
   "source": [
    "df[\"12.00\"] > 0.5"
   ]
  },
  {
   "cell_type": "code",
   "execution_count": 144,
   "metadata": {},
   "outputs": [
    {
     "name": "stdout",
     "output_type": "stream",
     "text": [
      "1.0\n"
     ]
    }
   ],
   "source": [
    "print(df2.iloc[0,0])"
   ]
  },
  {
   "cell_type": "code",
   "execution_count": 145,
   "metadata": {},
   "outputs": [],
   "source": [
    "df2 = df.copy()"
   ]
  },
  {
   "cell_type": "code",
   "execution_count": 146,
   "metadata": {},
   "outputs": [],
   "source": [
    "df2.iloc[0,0] = \"HEHE\""
   ]
  },
  {
   "cell_type": "code",
   "execution_count": 147,
   "metadata": {},
   "outputs": [
    {
     "data": {
      "text/html": [
       "<div>\n",
       "<style scoped>\n",
       "    .dataframe tbody tr th:only-of-type {\n",
       "        vertical-align: middle;\n",
       "    }\n",
       "\n",
       "    .dataframe tbody tr th {\n",
       "        vertical-align: top;\n",
       "    }\n",
       "\n",
       "    .dataframe thead th {\n",
       "        text-align: right;\n",
       "    }\n",
       "</style>\n",
       "<table border=\"1\" class=\"dataframe\">\n",
       "  <thead>\n",
       "    <tr style=\"text-align: right;\">\n",
       "      <th></th>\n",
       "      <th>00.00</th>\n",
       "      <th>06.00</th>\n",
       "      <th>12.00</th>\n",
       "      <th>18.00</th>\n",
       "    </tr>\n",
       "  </thead>\n",
       "  <tbody>\n",
       "    <tr>\n",
       "      <th>2021-03-09</th>\n",
       "      <td>HEHE</td>\n",
       "      <td>0.577552</td>\n",
       "      <td>0.758236</td>\n",
       "      <td>0.843486</td>\n",
       "    </tr>\n",
       "    <tr>\n",
       "      <th>2021-03-10</th>\n",
       "      <td>0.767632</td>\n",
       "      <td>0.206914</td>\n",
       "      <td>0.298570</td>\n",
       "      <td>0.098235</td>\n",
       "    </tr>\n",
       "    <tr>\n",
       "      <th>2021-03-11</th>\n",
       "      <td>0.150353</td>\n",
       "      <td>0.085990</td>\n",
       "      <td>0.725898</td>\n",
       "      <td>0.077406</td>\n",
       "    </tr>\n",
       "    <tr>\n",
       "      <th>2021-03-12</th>\n",
       "      <td>0.952085</td>\n",
       "      <td>0.309042</td>\n",
       "      <td>0.178235</td>\n",
       "      <td>0.937082</td>\n",
       "    </tr>\n",
       "    <tr>\n",
       "      <th>2021-03-13</th>\n",
       "      <td>0.0273924</td>\n",
       "      <td>0.555903</td>\n",
       "      <td>0.220048</td>\n",
       "      <td>0.035815</td>\n",
       "    </tr>\n",
       "    <tr>\n",
       "      <th>2021-03-14</th>\n",
       "      <td>0.994721</td>\n",
       "      <td>0.359915</td>\n",
       "      <td>0.762514</td>\n",
       "      <td>0.372276</td>\n",
       "    </tr>\n",
       "    <tr>\n",
       "      <th>2021-03-15</th>\n",
       "      <td>0.625464</td>\n",
       "      <td>0.863373</td>\n",
       "      <td>0.270713</td>\n",
       "      <td>0.940082</td>\n",
       "    </tr>\n",
       "  </tbody>\n",
       "</table>\n",
       "</div>"
      ],
      "text/plain": [
       "                00.00     06.00     12.00     18.00\n",
       "2021-03-09       HEHE  0.577552  0.758236  0.843486\n",
       "2021-03-10   0.767632  0.206914  0.298570  0.098235\n",
       "2021-03-11   0.150353  0.085990  0.725898  0.077406\n",
       "2021-03-12   0.952085  0.309042  0.178235  0.937082\n",
       "2021-03-13  0.0273924  0.555903  0.220048  0.035815\n",
       "2021-03-14   0.994721  0.359915  0.762514  0.372276\n",
       "2021-03-15   0.625464  0.863373  0.270713  0.940082"
      ]
     },
     "execution_count": 147,
     "metadata": {},
     "output_type": "execute_result"
    }
   ],
   "source": [
    "df2"
   ]
  },
  {
   "cell_type": "code",
   "execution_count": 148,
   "metadata": {},
   "outputs": [
    {
     "data": {
      "text/html": [
       "<div>\n",
       "<style scoped>\n",
       "    .dataframe tbody tr th:only-of-type {\n",
       "        vertical-align: middle;\n",
       "    }\n",
       "\n",
       "    .dataframe tbody tr th {\n",
       "        vertical-align: top;\n",
       "    }\n",
       "\n",
       "    .dataframe thead th {\n",
       "        text-align: right;\n",
       "    }\n",
       "</style>\n",
       "<table border=\"1\" class=\"dataframe\">\n",
       "  <thead>\n",
       "    <tr style=\"text-align: right;\">\n",
       "      <th></th>\n",
       "      <th>00.00</th>\n",
       "      <th>06.00</th>\n",
       "      <th>12.00</th>\n",
       "      <th>18.00</th>\n",
       "    </tr>\n",
       "  </thead>\n",
       "  <tbody>\n",
       "    <tr>\n",
       "      <th>2021-03-09</th>\n",
       "      <td>0.877720</td>\n",
       "      <td>0.577552</td>\n",
       "      <td>0.758236</td>\n",
       "      <td>0.843486</td>\n",
       "    </tr>\n",
       "    <tr>\n",
       "      <th>2021-03-10</th>\n",
       "      <td>0.767632</td>\n",
       "      <td>0.206914</td>\n",
       "      <td>0.298570</td>\n",
       "      <td>0.098235</td>\n",
       "    </tr>\n",
       "    <tr>\n",
       "      <th>2021-03-11</th>\n",
       "      <td>0.150353</td>\n",
       "      <td>0.085990</td>\n",
       "      <td>0.725898</td>\n",
       "      <td>0.077406</td>\n",
       "    </tr>\n",
       "    <tr>\n",
       "      <th>2021-03-12</th>\n",
       "      <td>0.952085</td>\n",
       "      <td>0.309042</td>\n",
       "      <td>0.178235</td>\n",
       "      <td>0.937082</td>\n",
       "    </tr>\n",
       "    <tr>\n",
       "      <th>2021-03-13</th>\n",
       "      <td>0.027392</td>\n",
       "      <td>0.555903</td>\n",
       "      <td>0.220048</td>\n",
       "      <td>0.035815</td>\n",
       "    </tr>\n",
       "    <tr>\n",
       "      <th>2021-03-14</th>\n",
       "      <td>0.994721</td>\n",
       "      <td>0.359915</td>\n",
       "      <td>0.762514</td>\n",
       "      <td>0.372276</td>\n",
       "    </tr>\n",
       "    <tr>\n",
       "      <th>2021-03-15</th>\n",
       "      <td>0.625464</td>\n",
       "      <td>0.863373</td>\n",
       "      <td>0.270713</td>\n",
       "      <td>0.940082</td>\n",
       "    </tr>\n",
       "  </tbody>\n",
       "</table>\n",
       "</div>"
      ],
      "text/plain": [
       "               00.00     06.00     12.00     18.00\n",
       "2021-03-09  0.877720  0.577552  0.758236  0.843486\n",
       "2021-03-10  0.767632  0.206914  0.298570  0.098235\n",
       "2021-03-11  0.150353  0.085990  0.725898  0.077406\n",
       "2021-03-12  0.952085  0.309042  0.178235  0.937082\n",
       "2021-03-13  0.027392  0.555903  0.220048  0.035815\n",
       "2021-03-14  0.994721  0.359915  0.762514  0.372276\n",
       "2021-03-15  0.625464  0.863373  0.270713  0.940082"
      ]
     },
     "execution_count": 148,
     "metadata": {},
     "output_type": "execute_result"
    }
   ],
   "source": [
    "df"
   ]
  },
  {
   "cell_type": "code",
   "execution_count": 149,
   "metadata": {},
   "outputs": [
    {
     "data": {
      "text/plain": [
       "3135401335536"
      ]
     },
     "execution_count": 149,
     "metadata": {},
     "output_type": "execute_result"
    }
   ],
   "source": [
    "id(df)"
   ]
  },
  {
   "cell_type": "code",
   "execution_count": 150,
   "metadata": {},
   "outputs": [
    {
     "data": {
      "text/plain": [
       "3135401576768"
      ]
     },
     "execution_count": 150,
     "metadata": {},
     "output_type": "execute_result"
    }
   ],
   "source": [
    "id(df2)"
   ]
  },
  {
   "cell_type": "code",
   "execution_count": 151,
   "metadata": {},
   "outputs": [
    {
     "data": {
      "text/html": [
       "<div>\n",
       "<style scoped>\n",
       "    .dataframe tbody tr th:only-of-type {\n",
       "        vertical-align: middle;\n",
       "    }\n",
       "\n",
       "    .dataframe tbody tr th {\n",
       "        vertical-align: top;\n",
       "    }\n",
       "\n",
       "    .dataframe thead th {\n",
       "        text-align: right;\n",
       "    }\n",
       "</style>\n",
       "<table border=\"1\" class=\"dataframe\">\n",
       "  <thead>\n",
       "    <tr style=\"text-align: right;\">\n",
       "      <th></th>\n",
       "      <th>06.00</th>\n",
       "      <th>12.00</th>\n",
       "    </tr>\n",
       "  </thead>\n",
       "  <tbody>\n",
       "    <tr>\n",
       "      <th>2021-03-13</th>\n",
       "      <td>0.555903</td>\n",
       "      <td>0.220048</td>\n",
       "    </tr>\n",
       "    <tr>\n",
       "      <th>2021-03-14</th>\n",
       "      <td>0.359915</td>\n",
       "      <td>0.762514</td>\n",
       "    </tr>\n",
       "  </tbody>\n",
       "</table>\n",
       "</div>"
      ],
      "text/plain": [
       "               06.00     12.00\n",
       "2021-03-13  0.555903  0.220048\n",
       "2021-03-14  0.359915  0.762514"
      ]
     },
     "execution_count": 151,
     "metadata": {},
     "output_type": "execute_result"
    }
   ],
   "source": [
    "df.loc[\"2021-03-13\": \"2021-03-14\", \"06.00\": \"12.00\"]"
   ]
  },
  {
   "cell_type": "code",
   "execution_count": 152,
   "metadata": {},
   "outputs": [],
   "source": [
    "df.loc[\"2021-03-13\": \"2021-03-14\", \"06.00\": \"12.00\"] = np.nan"
   ]
  },
  {
   "cell_type": "code",
   "execution_count": 153,
   "metadata": {},
   "outputs": [
    {
     "data": {
      "text/html": [
       "<div>\n",
       "<style scoped>\n",
       "    .dataframe tbody tr th:only-of-type {\n",
       "        vertical-align: middle;\n",
       "    }\n",
       "\n",
       "    .dataframe tbody tr th {\n",
       "        vertical-align: top;\n",
       "    }\n",
       "\n",
       "    .dataframe thead th {\n",
       "        text-align: right;\n",
       "    }\n",
       "</style>\n",
       "<table border=\"1\" class=\"dataframe\">\n",
       "  <thead>\n",
       "    <tr style=\"text-align: right;\">\n",
       "      <th></th>\n",
       "      <th>00.00</th>\n",
       "      <th>06.00</th>\n",
       "      <th>12.00</th>\n",
       "      <th>18.00</th>\n",
       "    </tr>\n",
       "  </thead>\n",
       "  <tbody>\n",
       "    <tr>\n",
       "      <th>2021-03-09</th>\n",
       "      <td>0.877720</td>\n",
       "      <td>0.577552</td>\n",
       "      <td>0.758236</td>\n",
       "      <td>0.843486</td>\n",
       "    </tr>\n",
       "    <tr>\n",
       "      <th>2021-03-10</th>\n",
       "      <td>0.767632</td>\n",
       "      <td>0.206914</td>\n",
       "      <td>0.298570</td>\n",
       "      <td>0.098235</td>\n",
       "    </tr>\n",
       "    <tr>\n",
       "      <th>2021-03-11</th>\n",
       "      <td>0.150353</td>\n",
       "      <td>0.085990</td>\n",
       "      <td>0.725898</td>\n",
       "      <td>0.077406</td>\n",
       "    </tr>\n",
       "    <tr>\n",
       "      <th>2021-03-12</th>\n",
       "      <td>0.952085</td>\n",
       "      <td>0.309042</td>\n",
       "      <td>0.178235</td>\n",
       "      <td>0.937082</td>\n",
       "    </tr>\n",
       "    <tr>\n",
       "      <th>2021-03-13</th>\n",
       "      <td>0.027392</td>\n",
       "      <td>NaN</td>\n",
       "      <td>NaN</td>\n",
       "      <td>0.035815</td>\n",
       "    </tr>\n",
       "    <tr>\n",
       "      <th>2021-03-14</th>\n",
       "      <td>0.994721</td>\n",
       "      <td>NaN</td>\n",
       "      <td>NaN</td>\n",
       "      <td>0.372276</td>\n",
       "    </tr>\n",
       "    <tr>\n",
       "      <th>2021-03-15</th>\n",
       "      <td>0.625464</td>\n",
       "      <td>0.863373</td>\n",
       "      <td>0.270713</td>\n",
       "      <td>0.940082</td>\n",
       "    </tr>\n",
       "  </tbody>\n",
       "</table>\n",
       "</div>"
      ],
      "text/plain": [
       "               00.00     06.00     12.00     18.00\n",
       "2021-03-09  0.877720  0.577552  0.758236  0.843486\n",
       "2021-03-10  0.767632  0.206914  0.298570  0.098235\n",
       "2021-03-11  0.150353  0.085990  0.725898  0.077406\n",
       "2021-03-12  0.952085  0.309042  0.178235  0.937082\n",
       "2021-03-13  0.027392       NaN       NaN  0.035815\n",
       "2021-03-14  0.994721       NaN       NaN  0.372276\n",
       "2021-03-15  0.625464  0.863373  0.270713  0.940082"
      ]
     },
     "execution_count": 153,
     "metadata": {},
     "output_type": "execute_result"
    }
   ],
   "source": [
    "df"
   ]
  },
  {
   "cell_type": "code",
   "execution_count": 156,
   "metadata": {},
   "outputs": [
    {
     "data": {
      "text/html": [
       "<div>\n",
       "<style scoped>\n",
       "    .dataframe tbody tr th:only-of-type {\n",
       "        vertical-align: middle;\n",
       "    }\n",
       "\n",
       "    .dataframe tbody tr th {\n",
       "        vertical-align: top;\n",
       "    }\n",
       "\n",
       "    .dataframe thead th {\n",
       "        text-align: right;\n",
       "    }\n",
       "</style>\n",
       "<table border=\"1\" class=\"dataframe\">\n",
       "  <thead>\n",
       "    <tr style=\"text-align: right;\">\n",
       "      <th></th>\n",
       "      <th>00.00</th>\n",
       "      <th>06.00</th>\n",
       "      <th>12.00</th>\n",
       "      <th>18.00</th>\n",
       "    </tr>\n",
       "  </thead>\n",
       "  <tbody>\n",
       "    <tr>\n",
       "      <th>2021-03-09</th>\n",
       "      <td>0.877720</td>\n",
       "      <td>0.577552</td>\n",
       "      <td>0.758236</td>\n",
       "      <td>0.843486</td>\n",
       "    </tr>\n",
       "    <tr>\n",
       "      <th>2021-03-10</th>\n",
       "      <td>0.767632</td>\n",
       "      <td>0.206914</td>\n",
       "      <td>0.298570</td>\n",
       "      <td>0.098235</td>\n",
       "    </tr>\n",
       "    <tr>\n",
       "      <th>2021-03-11</th>\n",
       "      <td>0.150353</td>\n",
       "      <td>0.085990</td>\n",
       "      <td>0.725898</td>\n",
       "      <td>0.077406</td>\n",
       "    </tr>\n",
       "    <tr>\n",
       "      <th>2021-03-12</th>\n",
       "      <td>0.952085</td>\n",
       "      <td>0.309042</td>\n",
       "      <td>0.178235</td>\n",
       "      <td>0.937082</td>\n",
       "    </tr>\n",
       "    <tr>\n",
       "      <th>2021-03-15</th>\n",
       "      <td>0.625464</td>\n",
       "      <td>0.863373</td>\n",
       "      <td>0.270713</td>\n",
       "      <td>0.940082</td>\n",
       "    </tr>\n",
       "  </tbody>\n",
       "</table>\n",
       "</div>"
      ],
      "text/plain": [
       "               00.00     06.00     12.00     18.00\n",
       "2021-03-09  0.877720  0.577552  0.758236  0.843486\n",
       "2021-03-10  0.767632  0.206914  0.298570  0.098235\n",
       "2021-03-11  0.150353  0.085990  0.725898  0.077406\n",
       "2021-03-12  0.952085  0.309042  0.178235  0.937082\n",
       "2021-03-15  0.625464  0.863373  0.270713  0.940082"
      ]
     },
     "execution_count": 156,
     "metadata": {},
     "output_type": "execute_result"
    }
   ],
   "source": [
    "df.dropna(how=\"any\")"
   ]
  },
  {
   "cell_type": "code",
   "execution_count": 157,
   "metadata": {},
   "outputs": [
    {
     "data": {
      "text/html": [
       "<div>\n",
       "<style scoped>\n",
       "    .dataframe tbody tr th:only-of-type {\n",
       "        vertical-align: middle;\n",
       "    }\n",
       "\n",
       "    .dataframe tbody tr th {\n",
       "        vertical-align: top;\n",
       "    }\n",
       "\n",
       "    .dataframe thead th {\n",
       "        text-align: right;\n",
       "    }\n",
       "</style>\n",
       "<table border=\"1\" class=\"dataframe\">\n",
       "  <thead>\n",
       "    <tr style=\"text-align: right;\">\n",
       "      <th></th>\n",
       "      <th>00.00</th>\n",
       "      <th>06.00</th>\n",
       "      <th>12.00</th>\n",
       "      <th>18.00</th>\n",
       "    </tr>\n",
       "  </thead>\n",
       "  <tbody>\n",
       "    <tr>\n",
       "      <th>2021-03-09</th>\n",
       "      <td>0.877720</td>\n",
       "      <td>0.577552</td>\n",
       "      <td>0.758236</td>\n",
       "      <td>0.843486</td>\n",
       "    </tr>\n",
       "    <tr>\n",
       "      <th>2021-03-10</th>\n",
       "      <td>0.767632</td>\n",
       "      <td>0.206914</td>\n",
       "      <td>0.298570</td>\n",
       "      <td>0.098235</td>\n",
       "    </tr>\n",
       "    <tr>\n",
       "      <th>2021-03-11</th>\n",
       "      <td>0.150353</td>\n",
       "      <td>0.085990</td>\n",
       "      <td>0.725898</td>\n",
       "      <td>0.077406</td>\n",
       "    </tr>\n",
       "    <tr>\n",
       "      <th>2021-03-12</th>\n",
       "      <td>0.952085</td>\n",
       "      <td>0.309042</td>\n",
       "      <td>0.178235</td>\n",
       "      <td>0.937082</td>\n",
       "    </tr>\n",
       "    <tr>\n",
       "      <th>2021-03-13</th>\n",
       "      <td>0.027392</td>\n",
       "      <td>NaN</td>\n",
       "      <td>NaN</td>\n",
       "      <td>0.035815</td>\n",
       "    </tr>\n",
       "    <tr>\n",
       "      <th>2021-03-14</th>\n",
       "      <td>0.994721</td>\n",
       "      <td>NaN</td>\n",
       "      <td>NaN</td>\n",
       "      <td>0.372276</td>\n",
       "    </tr>\n",
       "    <tr>\n",
       "      <th>2021-03-15</th>\n",
       "      <td>0.625464</td>\n",
       "      <td>0.863373</td>\n",
       "      <td>0.270713</td>\n",
       "      <td>0.940082</td>\n",
       "    </tr>\n",
       "  </tbody>\n",
       "</table>\n",
       "</div>"
      ],
      "text/plain": [
       "               00.00     06.00     12.00     18.00\n",
       "2021-03-09  0.877720  0.577552  0.758236  0.843486\n",
       "2021-03-10  0.767632  0.206914  0.298570  0.098235\n",
       "2021-03-11  0.150353  0.085990  0.725898  0.077406\n",
       "2021-03-12  0.952085  0.309042  0.178235  0.937082\n",
       "2021-03-13  0.027392       NaN       NaN  0.035815\n",
       "2021-03-14  0.994721       NaN       NaN  0.372276\n",
       "2021-03-15  0.625464  0.863373  0.270713  0.940082"
      ]
     },
     "execution_count": 157,
     "metadata": {},
     "output_type": "execute_result"
    }
   ],
   "source": [
    "df"
   ]
  },
  {
   "cell_type": "code",
   "execution_count": 158,
   "metadata": {},
   "outputs": [
    {
     "data": {
      "text/html": [
       "<div>\n",
       "<style scoped>\n",
       "    .dataframe tbody tr th:only-of-type {\n",
       "        vertical-align: middle;\n",
       "    }\n",
       "\n",
       "    .dataframe tbody tr th {\n",
       "        vertical-align: top;\n",
       "    }\n",
       "\n",
       "    .dataframe thead th {\n",
       "        text-align: right;\n",
       "    }\n",
       "</style>\n",
       "<table border=\"1\" class=\"dataframe\">\n",
       "  <thead>\n",
       "    <tr style=\"text-align: right;\">\n",
       "      <th></th>\n",
       "      <th>00.00</th>\n",
       "      <th>18.00</th>\n",
       "    </tr>\n",
       "  </thead>\n",
       "  <tbody>\n",
       "    <tr>\n",
       "      <th>2021-03-09</th>\n",
       "      <td>0.877720</td>\n",
       "      <td>0.843486</td>\n",
       "    </tr>\n",
       "    <tr>\n",
       "      <th>2021-03-10</th>\n",
       "      <td>0.767632</td>\n",
       "      <td>0.098235</td>\n",
       "    </tr>\n",
       "    <tr>\n",
       "      <th>2021-03-11</th>\n",
       "      <td>0.150353</td>\n",
       "      <td>0.077406</td>\n",
       "    </tr>\n",
       "    <tr>\n",
       "      <th>2021-03-12</th>\n",
       "      <td>0.952085</td>\n",
       "      <td>0.937082</td>\n",
       "    </tr>\n",
       "    <tr>\n",
       "      <th>2021-03-13</th>\n",
       "      <td>0.027392</td>\n",
       "      <td>0.035815</td>\n",
       "    </tr>\n",
       "    <tr>\n",
       "      <th>2021-03-14</th>\n",
       "      <td>0.994721</td>\n",
       "      <td>0.372276</td>\n",
       "    </tr>\n",
       "    <tr>\n",
       "      <th>2021-03-15</th>\n",
       "      <td>0.625464</td>\n",
       "      <td>0.940082</td>\n",
       "    </tr>\n",
       "  </tbody>\n",
       "</table>\n",
       "</div>"
      ],
      "text/plain": [
       "               00.00     18.00\n",
       "2021-03-09  0.877720  0.843486\n",
       "2021-03-10  0.767632  0.098235\n",
       "2021-03-11  0.150353  0.077406\n",
       "2021-03-12  0.952085  0.937082\n",
       "2021-03-13  0.027392  0.035815\n",
       "2021-03-14  0.994721  0.372276\n",
       "2021-03-15  0.625464  0.940082"
      ]
     },
     "execution_count": 158,
     "metadata": {},
     "output_type": "execute_result"
    }
   ],
   "source": [
    "df.dropna(how=\"any\", axis=1)"
   ]
  },
  {
   "cell_type": "code",
   "execution_count": 161,
   "metadata": {},
   "outputs": [],
   "source": [
    "df.fillna(value=0.5, inplace=True)"
   ]
  },
  {
   "cell_type": "code",
   "execution_count": 162,
   "metadata": {},
   "outputs": [
    {
     "data": {
      "text/html": [
       "<div>\n",
       "<style scoped>\n",
       "    .dataframe tbody tr th:only-of-type {\n",
       "        vertical-align: middle;\n",
       "    }\n",
       "\n",
       "    .dataframe tbody tr th {\n",
       "        vertical-align: top;\n",
       "    }\n",
       "\n",
       "    .dataframe thead th {\n",
       "        text-align: right;\n",
       "    }\n",
       "</style>\n",
       "<table border=\"1\" class=\"dataframe\">\n",
       "  <thead>\n",
       "    <tr style=\"text-align: right;\">\n",
       "      <th></th>\n",
       "      <th>00.00</th>\n",
       "      <th>06.00</th>\n",
       "      <th>12.00</th>\n",
       "      <th>18.00</th>\n",
       "    </tr>\n",
       "  </thead>\n",
       "  <tbody>\n",
       "    <tr>\n",
       "      <th>2021-03-09</th>\n",
       "      <td>0.877720</td>\n",
       "      <td>0.577552</td>\n",
       "      <td>0.758236</td>\n",
       "      <td>0.843486</td>\n",
       "    </tr>\n",
       "    <tr>\n",
       "      <th>2021-03-10</th>\n",
       "      <td>0.767632</td>\n",
       "      <td>0.206914</td>\n",
       "      <td>0.298570</td>\n",
       "      <td>0.098235</td>\n",
       "    </tr>\n",
       "    <tr>\n",
       "      <th>2021-03-11</th>\n",
       "      <td>0.150353</td>\n",
       "      <td>0.085990</td>\n",
       "      <td>0.725898</td>\n",
       "      <td>0.077406</td>\n",
       "    </tr>\n",
       "    <tr>\n",
       "      <th>2021-03-12</th>\n",
       "      <td>0.952085</td>\n",
       "      <td>0.309042</td>\n",
       "      <td>0.178235</td>\n",
       "      <td>0.937082</td>\n",
       "    </tr>\n",
       "    <tr>\n",
       "      <th>2021-03-13</th>\n",
       "      <td>0.027392</td>\n",
       "      <td>0.500000</td>\n",
       "      <td>0.500000</td>\n",
       "      <td>0.035815</td>\n",
       "    </tr>\n",
       "    <tr>\n",
       "      <th>2021-03-14</th>\n",
       "      <td>0.994721</td>\n",
       "      <td>0.500000</td>\n",
       "      <td>0.500000</td>\n",
       "      <td>0.372276</td>\n",
       "    </tr>\n",
       "    <tr>\n",
       "      <th>2021-03-15</th>\n",
       "      <td>0.625464</td>\n",
       "      <td>0.863373</td>\n",
       "      <td>0.270713</td>\n",
       "      <td>0.940082</td>\n",
       "    </tr>\n",
       "  </tbody>\n",
       "</table>\n",
       "</div>"
      ],
      "text/plain": [
       "               00.00     06.00     12.00     18.00\n",
       "2021-03-09  0.877720  0.577552  0.758236  0.843486\n",
       "2021-03-10  0.767632  0.206914  0.298570  0.098235\n",
       "2021-03-11  0.150353  0.085990  0.725898  0.077406\n",
       "2021-03-12  0.952085  0.309042  0.178235  0.937082\n",
       "2021-03-13  0.027392  0.500000  0.500000  0.035815\n",
       "2021-03-14  0.994721  0.500000  0.500000  0.372276\n",
       "2021-03-15  0.625464  0.863373  0.270713  0.940082"
      ]
     },
     "execution_count": 162,
     "metadata": {},
     "output_type": "execute_result"
    }
   ],
   "source": [
    "df"
   ]
  },
  {
   "cell_type": "code",
   "execution_count": 163,
   "metadata": {},
   "outputs": [
    {
     "data": {
      "text/html": [
       "<div>\n",
       "<style scoped>\n",
       "    .dataframe tbody tr th:only-of-type {\n",
       "        vertical-align: middle;\n",
       "    }\n",
       "\n",
       "    .dataframe tbody tr th {\n",
       "        vertical-align: top;\n",
       "    }\n",
       "\n",
       "    .dataframe thead th {\n",
       "        text-align: right;\n",
       "    }\n",
       "</style>\n",
       "<table border=\"1\" class=\"dataframe\">\n",
       "  <thead>\n",
       "    <tr style=\"text-align: right;\">\n",
       "      <th></th>\n",
       "      <th>00.00</th>\n",
       "      <th>06.00</th>\n",
       "      <th>12.00</th>\n",
       "      <th>18.00</th>\n",
       "    </tr>\n",
       "  </thead>\n",
       "  <tbody>\n",
       "    <tr>\n",
       "      <th>2021-03-09</th>\n",
       "      <td>False</td>\n",
       "      <td>False</td>\n",
       "      <td>False</td>\n",
       "      <td>False</td>\n",
       "    </tr>\n",
       "    <tr>\n",
       "      <th>2021-03-10</th>\n",
       "      <td>False</td>\n",
       "      <td>False</td>\n",
       "      <td>False</td>\n",
       "      <td>False</td>\n",
       "    </tr>\n",
       "    <tr>\n",
       "      <th>2021-03-11</th>\n",
       "      <td>False</td>\n",
       "      <td>False</td>\n",
       "      <td>False</td>\n",
       "      <td>False</td>\n",
       "    </tr>\n",
       "    <tr>\n",
       "      <th>2021-03-12</th>\n",
       "      <td>False</td>\n",
       "      <td>False</td>\n",
       "      <td>False</td>\n",
       "      <td>False</td>\n",
       "    </tr>\n",
       "    <tr>\n",
       "      <th>2021-03-13</th>\n",
       "      <td>False</td>\n",
       "      <td>False</td>\n",
       "      <td>False</td>\n",
       "      <td>False</td>\n",
       "    </tr>\n",
       "    <tr>\n",
       "      <th>2021-03-14</th>\n",
       "      <td>False</td>\n",
       "      <td>False</td>\n",
       "      <td>False</td>\n",
       "      <td>False</td>\n",
       "    </tr>\n",
       "    <tr>\n",
       "      <th>2021-03-15</th>\n",
       "      <td>False</td>\n",
       "      <td>False</td>\n",
       "      <td>False</td>\n",
       "      <td>False</td>\n",
       "    </tr>\n",
       "  </tbody>\n",
       "</table>\n",
       "</div>"
      ],
      "text/plain": [
       "            00.00  06.00  12.00  18.00\n",
       "2021-03-09  False  False  False  False\n",
       "2021-03-10  False  False  False  False\n",
       "2021-03-11  False  False  False  False\n",
       "2021-03-12  False  False  False  False\n",
       "2021-03-13  False  False  False  False\n",
       "2021-03-14  False  False  False  False\n",
       "2021-03-15  False  False  False  False"
      ]
     },
     "execution_count": 163,
     "metadata": {},
     "output_type": "execute_result"
    }
   ],
   "source": [
    "df.isna()"
   ]
  },
  {
   "cell_type": "code",
   "execution_count": 165,
   "metadata": {},
   "outputs": [
    {
     "data": {
      "text/plain": [
       "00.00    0.627909\n",
       "06.00    0.434696\n",
       "12.00    0.461664\n",
       "18.00    0.472055\n",
       "dtype: float64"
      ]
     },
     "execution_count": 165,
     "metadata": {},
     "output_type": "execute_result"
    }
   ],
   "source": [
    "df.mean()"
   ]
  },
  {
   "cell_type": "code",
   "execution_count": 168,
   "metadata": {},
   "outputs": [
    {
     "data": {
      "text/plain": [
       "2021-03-09    0.764249\n",
       "2021-03-10    0.342837\n",
       "2021-03-11    0.259912\n",
       "2021-03-12    0.594111\n",
       "2021-03-13    0.265802\n",
       "2021-03-14    0.591749\n",
       "2021-03-15    0.674908\n",
       "Freq: D, dtype: float64"
      ]
     },
     "execution_count": 168,
     "metadata": {},
     "output_type": "execute_result"
    }
   ],
   "source": [
    "df.mean(axis=1)"
   ]
  },
  {
   "cell_type": "code",
   "execution_count": 169,
   "metadata": {},
   "outputs": [
    {
     "data": {
      "text/html": [
       "<div>\n",
       "<style scoped>\n",
       "    .dataframe tbody tr th:only-of-type {\n",
       "        vertical-align: middle;\n",
       "    }\n",
       "\n",
       "    .dataframe tbody tr th {\n",
       "        vertical-align: top;\n",
       "    }\n",
       "\n",
       "    .dataframe thead th {\n",
       "        text-align: right;\n",
       "    }\n",
       "</style>\n",
       "<table border=\"1\" class=\"dataframe\">\n",
       "  <thead>\n",
       "    <tr style=\"text-align: right;\">\n",
       "      <th></th>\n",
       "      <th>00.00</th>\n",
       "      <th>06.00</th>\n",
       "      <th>12.00</th>\n",
       "      <th>18.00</th>\n",
       "    </tr>\n",
       "  </thead>\n",
       "  <tbody>\n",
       "    <tr>\n",
       "      <th>2021-03-09</th>\n",
       "      <td>0.877720</td>\n",
       "      <td>0.577552</td>\n",
       "      <td>0.758236</td>\n",
       "      <td>0.843486</td>\n",
       "    </tr>\n",
       "    <tr>\n",
       "      <th>2021-03-10</th>\n",
       "      <td>0.767632</td>\n",
       "      <td>0.206914</td>\n",
       "      <td>0.298570</td>\n",
       "      <td>0.098235</td>\n",
       "    </tr>\n",
       "    <tr>\n",
       "      <th>2021-03-11</th>\n",
       "      <td>0.150353</td>\n",
       "      <td>0.085990</td>\n",
       "      <td>0.725898</td>\n",
       "      <td>0.077406</td>\n",
       "    </tr>\n",
       "    <tr>\n",
       "      <th>2021-03-12</th>\n",
       "      <td>0.952085</td>\n",
       "      <td>0.309042</td>\n",
       "      <td>0.178235</td>\n",
       "      <td>0.937082</td>\n",
       "    </tr>\n",
       "    <tr>\n",
       "      <th>2021-03-13</th>\n",
       "      <td>0.027392</td>\n",
       "      <td>0.500000</td>\n",
       "      <td>0.500000</td>\n",
       "      <td>0.035815</td>\n",
       "    </tr>\n",
       "    <tr>\n",
       "      <th>2021-03-14</th>\n",
       "      <td>0.994721</td>\n",
       "      <td>0.500000</td>\n",
       "      <td>0.500000</td>\n",
       "      <td>0.372276</td>\n",
       "    </tr>\n",
       "    <tr>\n",
       "      <th>2021-03-15</th>\n",
       "      <td>0.625464</td>\n",
       "      <td>0.863373</td>\n",
       "      <td>0.270713</td>\n",
       "      <td>0.940082</td>\n",
       "    </tr>\n",
       "  </tbody>\n",
       "</table>\n",
       "</div>"
      ],
      "text/plain": [
       "               00.00     06.00     12.00     18.00\n",
       "2021-03-09  0.877720  0.577552  0.758236  0.843486\n",
       "2021-03-10  0.767632  0.206914  0.298570  0.098235\n",
       "2021-03-11  0.150353  0.085990  0.725898  0.077406\n",
       "2021-03-12  0.952085  0.309042  0.178235  0.937082\n",
       "2021-03-13  0.027392  0.500000  0.500000  0.035815\n",
       "2021-03-14  0.994721  0.500000  0.500000  0.372276\n",
       "2021-03-15  0.625464  0.863373  0.270713  0.940082"
      ]
     },
     "execution_count": 169,
     "metadata": {},
     "output_type": "execute_result"
    }
   ],
   "source": [
    "df"
   ]
  },
  {
   "cell_type": "code",
   "execution_count": 171,
   "metadata": {},
   "outputs": [
    {
     "data": {
      "text/plain": [
       "00.00    0.994721\n",
       "06.00    0.863373\n",
       "12.00    0.758236\n",
       "18.00    0.940082\n",
       "dtype: float64"
      ]
     },
     "execution_count": 171,
     "metadata": {},
     "output_type": "execute_result"
    }
   ],
   "source": [
    "df.apply(lambda x: x.max())"
   ]
  },
  {
   "cell_type": "code",
   "execution_count": 172,
   "metadata": {},
   "outputs": [
    {
     "data": {
      "text/plain": [
       "00.00    1.994721\n",
       "06.00    1.863373\n",
       "12.00    1.758236\n",
       "18.00    1.940082\n",
       "dtype: float64"
      ]
     },
     "execution_count": 172,
     "metadata": {},
     "output_type": "execute_result"
    }
   ],
   "source": [
    "df.apply(lambda x: x.max()+1)"
   ]
  },
  {
   "cell_type": "code",
   "execution_count": 173,
   "metadata": {},
   "outputs": [
    {
     "data": {
      "text/plain": [
       "2021-03-09    3.056994\n",
       "2021-03-10    1.371350\n",
       "2021-03-11    1.039647\n",
       "2021-03-12    2.376445\n",
       "2021-03-13    1.063207\n",
       "2021-03-14    2.366997\n",
       "2021-03-15    2.699632\n",
       "Freq: D, dtype: float64"
      ]
     },
     "execution_count": 173,
     "metadata": {},
     "output_type": "execute_result"
    }
   ],
   "source": [
    "df.apply(lambda x: x.sum(),axis=1)"
   ]
  },
  {
   "cell_type": "code",
   "execution_count": 174,
   "metadata": {},
   "outputs": [
    {
     "data": {
      "text/html": [
       "<div>\n",
       "<style scoped>\n",
       "    .dataframe tbody tr th:only-of-type {\n",
       "        vertical-align: middle;\n",
       "    }\n",
       "\n",
       "    .dataframe tbody tr th {\n",
       "        vertical-align: top;\n",
       "    }\n",
       "\n",
       "    .dataframe thead th {\n",
       "        text-align: right;\n",
       "    }\n",
       "</style>\n",
       "<table border=\"1\" class=\"dataframe\">\n",
       "  <thead>\n",
       "    <tr style=\"text-align: right;\">\n",
       "      <th></th>\n",
       "      <th>00.00</th>\n",
       "      <th>06.00</th>\n",
       "      <th>12.00</th>\n",
       "      <th>18.00</th>\n",
       "    </tr>\n",
       "  </thead>\n",
       "  <tbody>\n",
       "    <tr>\n",
       "      <th>2021-03-09</th>\n",
       "      <td>0.877720</td>\n",
       "      <td>0.577552</td>\n",
       "      <td>0.758236</td>\n",
       "      <td>0.843486</td>\n",
       "    </tr>\n",
       "    <tr>\n",
       "      <th>2021-03-10</th>\n",
       "      <td>0.767632</td>\n",
       "      <td>0.206914</td>\n",
       "      <td>0.298570</td>\n",
       "      <td>0.098235</td>\n",
       "    </tr>\n",
       "    <tr>\n",
       "      <th>2021-03-11</th>\n",
       "      <td>0.150353</td>\n",
       "      <td>0.085990</td>\n",
       "      <td>0.725898</td>\n",
       "      <td>0.077406</td>\n",
       "    </tr>\n",
       "    <tr>\n",
       "      <th>2021-03-12</th>\n",
       "      <td>0.952085</td>\n",
       "      <td>0.309042</td>\n",
       "      <td>0.178235</td>\n",
       "      <td>0.937082</td>\n",
       "    </tr>\n",
       "    <tr>\n",
       "      <th>2021-03-13</th>\n",
       "      <td>0.027392</td>\n",
       "      <td>0.500000</td>\n",
       "      <td>0.500000</td>\n",
       "      <td>0.035815</td>\n",
       "    </tr>\n",
       "    <tr>\n",
       "      <th>2021-03-14</th>\n",
       "      <td>0.994721</td>\n",
       "      <td>0.500000</td>\n",
       "      <td>0.500000</td>\n",
       "      <td>0.372276</td>\n",
       "    </tr>\n",
       "    <tr>\n",
       "      <th>2021-03-15</th>\n",
       "      <td>0.625464</td>\n",
       "      <td>0.863373</td>\n",
       "      <td>0.270713</td>\n",
       "      <td>0.940082</td>\n",
       "    </tr>\n",
       "  </tbody>\n",
       "</table>\n",
       "</div>"
      ],
      "text/plain": [
       "               00.00     06.00     12.00     18.00\n",
       "2021-03-09  0.877720  0.577552  0.758236  0.843486\n",
       "2021-03-10  0.767632  0.206914  0.298570  0.098235\n",
       "2021-03-11  0.150353  0.085990  0.725898  0.077406\n",
       "2021-03-12  0.952085  0.309042  0.178235  0.937082\n",
       "2021-03-13  0.027392  0.500000  0.500000  0.035815\n",
       "2021-03-14  0.994721  0.500000  0.500000  0.372276\n",
       "2021-03-15  0.625464  0.863373  0.270713  0.940082"
      ]
     },
     "execution_count": 174,
     "metadata": {},
     "output_type": "execute_result"
    }
   ],
   "source": [
    "df"
   ]
  },
  {
   "cell_type": "code",
   "execution_count": 175,
   "metadata": {},
   "outputs": [
    {
     "data": {
      "text/html": [
       "<div>\n",
       "<style scoped>\n",
       "    .dataframe tbody tr th:only-of-type {\n",
       "        vertical-align: middle;\n",
       "    }\n",
       "\n",
       "    .dataframe tbody tr th {\n",
       "        vertical-align: top;\n",
       "    }\n",
       "\n",
       "    .dataframe thead th {\n",
       "        text-align: right;\n",
       "    }\n",
       "</style>\n",
       "<table border=\"1\" class=\"dataframe\">\n",
       "  <thead>\n",
       "    <tr style=\"text-align: right;\">\n",
       "      <th></th>\n",
       "      <th>00.00</th>\n",
       "      <th>06.00</th>\n",
       "      <th>12.00</th>\n",
       "      <th>18.00</th>\n",
       "    </tr>\n",
       "  </thead>\n",
       "  <tbody>\n",
       "    <tr>\n",
       "      <th>2021-03-09</th>\n",
       "      <td>0.877720</td>\n",
       "      <td>0.577552</td>\n",
       "      <td>0.758236</td>\n",
       "      <td>0.843486</td>\n",
       "    </tr>\n",
       "    <tr>\n",
       "      <th>2021-03-10</th>\n",
       "      <td>1.645351</td>\n",
       "      <td>0.784466</td>\n",
       "      <td>1.056806</td>\n",
       "      <td>0.941721</td>\n",
       "    </tr>\n",
       "    <tr>\n",
       "      <th>2021-03-11</th>\n",
       "      <td>1.795704</td>\n",
       "      <td>0.870456</td>\n",
       "      <td>1.782704</td>\n",
       "      <td>1.019127</td>\n",
       "    </tr>\n",
       "    <tr>\n",
       "      <th>2021-03-12</th>\n",
       "      <td>2.747789</td>\n",
       "      <td>1.179499</td>\n",
       "      <td>1.960939</td>\n",
       "      <td>1.956209</td>\n",
       "    </tr>\n",
       "    <tr>\n",
       "      <th>2021-03-13</th>\n",
       "      <td>2.775181</td>\n",
       "      <td>1.679499</td>\n",
       "      <td>2.460939</td>\n",
       "      <td>1.992024</td>\n",
       "    </tr>\n",
       "    <tr>\n",
       "      <th>2021-03-14</th>\n",
       "      <td>3.769902</td>\n",
       "      <td>2.179499</td>\n",
       "      <td>2.960939</td>\n",
       "      <td>2.364300</td>\n",
       "    </tr>\n",
       "    <tr>\n",
       "      <th>2021-03-15</th>\n",
       "      <td>4.395366</td>\n",
       "      <td>3.042872</td>\n",
       "      <td>3.231651</td>\n",
       "      <td>3.304382</td>\n",
       "    </tr>\n",
       "  </tbody>\n",
       "</table>\n",
       "</div>"
      ],
      "text/plain": [
       "               00.00     06.00     12.00     18.00\n",
       "2021-03-09  0.877720  0.577552  0.758236  0.843486\n",
       "2021-03-10  1.645351  0.784466  1.056806  0.941721\n",
       "2021-03-11  1.795704  0.870456  1.782704  1.019127\n",
       "2021-03-12  2.747789  1.179499  1.960939  1.956209\n",
       "2021-03-13  2.775181  1.679499  2.460939  1.992024\n",
       "2021-03-14  3.769902  2.179499  2.960939  2.364300\n",
       "2021-03-15  4.395366  3.042872  3.231651  3.304382"
      ]
     },
     "execution_count": 175,
     "metadata": {},
     "output_type": "execute_result"
    }
   ],
   "source": [
    "# [1,2,3,4,5] => 1, 3, 6, 10, 15\n",
    "df.apply(np.cumsum)"
   ]
  },
  {
   "cell_type": "code",
   "execution_count": 176,
   "metadata": {},
   "outputs": [],
   "source": [
    "df3 = pd.DataFrame([\n",
    "                    [1,2,3],\n",
    "                    [4,5,6]\n",
    "])\n"
   ]
  },
  {
   "cell_type": "code",
   "execution_count": 177,
   "metadata": {},
   "outputs": [
    {
     "data": {
      "text/html": [
       "<div>\n",
       "<style scoped>\n",
       "    .dataframe tbody tr th:only-of-type {\n",
       "        vertical-align: middle;\n",
       "    }\n",
       "\n",
       "    .dataframe tbody tr th {\n",
       "        vertical-align: top;\n",
       "    }\n",
       "\n",
       "    .dataframe thead th {\n",
       "        text-align: right;\n",
       "    }\n",
       "</style>\n",
       "<table border=\"1\" class=\"dataframe\">\n",
       "  <thead>\n",
       "    <tr style=\"text-align: right;\">\n",
       "      <th></th>\n",
       "      <th>0</th>\n",
       "      <th>1</th>\n",
       "      <th>2</th>\n",
       "    </tr>\n",
       "  </thead>\n",
       "  <tbody>\n",
       "    <tr>\n",
       "      <th>0</th>\n",
       "      <td>1</td>\n",
       "      <td>2</td>\n",
       "      <td>3</td>\n",
       "    </tr>\n",
       "    <tr>\n",
       "      <th>1</th>\n",
       "      <td>4</td>\n",
       "      <td>5</td>\n",
       "      <td>6</td>\n",
       "    </tr>\n",
       "  </tbody>\n",
       "</table>\n",
       "</div>"
      ],
      "text/plain": [
       "   0  1  2\n",
       "0  1  2  3\n",
       "1  4  5  6"
      ]
     },
     "execution_count": 177,
     "metadata": {},
     "output_type": "execute_result"
    }
   ],
   "source": [
    "df3"
   ]
  },
  {
   "cell_type": "code",
   "execution_count": 179,
   "metadata": {},
   "outputs": [
    {
     "data": {
      "text/html": [
       "<div>\n",
       "<style scoped>\n",
       "    .dataframe tbody tr th:only-of-type {\n",
       "        vertical-align: middle;\n",
       "    }\n",
       "\n",
       "    .dataframe tbody tr th {\n",
       "        vertical-align: top;\n",
       "    }\n",
       "\n",
       "    .dataframe thead th {\n",
       "        text-align: right;\n",
       "    }\n",
       "</style>\n",
       "<table border=\"1\" class=\"dataframe\">\n",
       "  <thead>\n",
       "    <tr style=\"text-align: right;\">\n",
       "      <th></th>\n",
       "      <th>0</th>\n",
       "      <th>1</th>\n",
       "      <th>2</th>\n",
       "    </tr>\n",
       "  </thead>\n",
       "  <tbody>\n",
       "    <tr>\n",
       "      <th>0</th>\n",
       "      <td>1</td>\n",
       "      <td>2</td>\n",
       "      <td>3</td>\n",
       "    </tr>\n",
       "  </tbody>\n",
       "</table>\n",
       "</div>"
      ],
      "text/plain": [
       "   0  1  2\n",
       "0  1  2  3"
      ]
     },
     "execution_count": 179,
     "metadata": {},
     "output_type": "execute_result"
    }
   ],
   "source": [
    "df3[:1]"
   ]
  },
  {
   "cell_type": "code",
   "execution_count": 180,
   "metadata": {},
   "outputs": [],
   "source": [
    "pieces = [df3[:1], df3, df3[1:]]"
   ]
  },
  {
   "cell_type": "code",
   "execution_count": 181,
   "metadata": {},
   "outputs": [
    {
     "data": {
      "text/html": [
       "<div>\n",
       "<style scoped>\n",
       "    .dataframe tbody tr th:only-of-type {\n",
       "        vertical-align: middle;\n",
       "    }\n",
       "\n",
       "    .dataframe tbody tr th {\n",
       "        vertical-align: top;\n",
       "    }\n",
       "\n",
       "    .dataframe thead th {\n",
       "        text-align: right;\n",
       "    }\n",
       "</style>\n",
       "<table border=\"1\" class=\"dataframe\">\n",
       "  <thead>\n",
       "    <tr style=\"text-align: right;\">\n",
       "      <th></th>\n",
       "      <th>0</th>\n",
       "      <th>1</th>\n",
       "      <th>2</th>\n",
       "    </tr>\n",
       "  </thead>\n",
       "  <tbody>\n",
       "    <tr>\n",
       "      <th>0</th>\n",
       "      <td>1</td>\n",
       "      <td>2</td>\n",
       "      <td>3</td>\n",
       "    </tr>\n",
       "    <tr>\n",
       "      <th>0</th>\n",
       "      <td>1</td>\n",
       "      <td>2</td>\n",
       "      <td>3</td>\n",
       "    </tr>\n",
       "    <tr>\n",
       "      <th>1</th>\n",
       "      <td>4</td>\n",
       "      <td>5</td>\n",
       "      <td>6</td>\n",
       "    </tr>\n",
       "    <tr>\n",
       "      <th>1</th>\n",
       "      <td>4</td>\n",
       "      <td>5</td>\n",
       "      <td>6</td>\n",
       "    </tr>\n",
       "  </tbody>\n",
       "</table>\n",
       "</div>"
      ],
      "text/plain": [
       "   0  1  2\n",
       "0  1  2  3\n",
       "0  1  2  3\n",
       "1  4  5  6\n",
       "1  4  5  6"
      ]
     },
     "execution_count": 181,
     "metadata": {},
     "output_type": "execute_result"
    }
   ],
   "source": [
    "pd.concat(pieces)"
   ]
  },
  {
   "cell_type": "code",
   "execution_count": 183,
   "metadata": {},
   "outputs": [
    {
     "name": "stdout",
     "output_type": "stream",
     "text": [
      "      key  left-val\n",
      "0  value1         1\n",
      "1  value2         2\n",
      "####################\n",
      "      key  right-val\n",
      "0  value1          3\n",
      "1  value2          4\n"
     ]
    }
   ],
   "source": [
    "first = pd.DataFrame({\"key\": [\"value1\", \"value2\"], \"left-val\": [1,2]})\n",
    "second = pd.DataFrame({\"key\": [\"value1\", \"value2\"], \"right-val\": [3,4]})\n",
    "print(first)\n",
    "print(\"#\"*20)\n",
    "print(second)"
   ]
  },
  {
   "cell_type": "code",
   "execution_count": 187,
   "metadata": {},
   "outputs": [
    {
     "data": {
      "text/html": [
       "<div>\n",
       "<style scoped>\n",
       "    .dataframe tbody tr th:only-of-type {\n",
       "        vertical-align: middle;\n",
       "    }\n",
       "\n",
       "    .dataframe tbody tr th {\n",
       "        vertical-align: top;\n",
       "    }\n",
       "\n",
       "    .dataframe thead th {\n",
       "        text-align: right;\n",
       "    }\n",
       "</style>\n",
       "<table border=\"1\" class=\"dataframe\">\n",
       "  <thead>\n",
       "    <tr style=\"text-align: right;\">\n",
       "      <th></th>\n",
       "      <th>key</th>\n",
       "      <th>left-val</th>\n",
       "      <th>right-val</th>\n",
       "    </tr>\n",
       "  </thead>\n",
       "  <tbody>\n",
       "    <tr>\n",
       "      <th>0</th>\n",
       "      <td>value1</td>\n",
       "      <td>1</td>\n",
       "      <td>3</td>\n",
       "    </tr>\n",
       "    <tr>\n",
       "      <th>1</th>\n",
       "      <td>value2</td>\n",
       "      <td>2</td>\n",
       "      <td>4</td>\n",
       "    </tr>\n",
       "  </tbody>\n",
       "</table>\n",
       "</div>"
      ],
      "text/plain": [
       "      key  left-val  right-val\n",
       "0  value1         1          3\n",
       "1  value2         2          4"
      ]
     },
     "execution_count": 187,
     "metadata": {},
     "output_type": "execute_result"
    }
   ],
   "source": [
    "pd.merge(first, second, on=\"key\")"
   ]
  },
  {
   "cell_type": "code",
   "execution_count": 188,
   "metadata": {},
   "outputs": [
    {
     "data": {
      "text/html": [
       "<div>\n",
       "<style scoped>\n",
       "    .dataframe tbody tr th:only-of-type {\n",
       "        vertical-align: middle;\n",
       "    }\n",
       "\n",
       "    .dataframe tbody tr th {\n",
       "        vertical-align: top;\n",
       "    }\n",
       "\n",
       "    .dataframe thead th {\n",
       "        text-align: right;\n",
       "    }\n",
       "</style>\n",
       "<table border=\"1\" class=\"dataframe\">\n",
       "  <thead>\n",
       "    <tr style=\"text-align: right;\">\n",
       "      <th></th>\n",
       "      <th>00.00</th>\n",
       "      <th>06.00</th>\n",
       "      <th>12.00</th>\n",
       "      <th>18.00</th>\n",
       "    </tr>\n",
       "  </thead>\n",
       "  <tbody>\n",
       "    <tr>\n",
       "      <th>2021-03-09</th>\n",
       "      <td>0.877720</td>\n",
       "      <td>0.577552</td>\n",
       "      <td>0.758236</td>\n",
       "      <td>0.843486</td>\n",
       "    </tr>\n",
       "    <tr>\n",
       "      <th>2021-03-10</th>\n",
       "      <td>0.767632</td>\n",
       "      <td>0.206914</td>\n",
       "      <td>0.298570</td>\n",
       "      <td>0.098235</td>\n",
       "    </tr>\n",
       "    <tr>\n",
       "      <th>2021-03-11</th>\n",
       "      <td>0.150353</td>\n",
       "      <td>0.085990</td>\n",
       "      <td>0.725898</td>\n",
       "      <td>0.077406</td>\n",
       "    </tr>\n",
       "    <tr>\n",
       "      <th>2021-03-12</th>\n",
       "      <td>0.952085</td>\n",
       "      <td>0.309042</td>\n",
       "      <td>0.178235</td>\n",
       "      <td>0.937082</td>\n",
       "    </tr>\n",
       "    <tr>\n",
       "      <th>2021-03-13</th>\n",
       "      <td>0.027392</td>\n",
       "      <td>0.500000</td>\n",
       "      <td>0.500000</td>\n",
       "      <td>0.035815</td>\n",
       "    </tr>\n",
       "    <tr>\n",
       "      <th>2021-03-14</th>\n",
       "      <td>0.994721</td>\n",
       "      <td>0.500000</td>\n",
       "      <td>0.500000</td>\n",
       "      <td>0.372276</td>\n",
       "    </tr>\n",
       "    <tr>\n",
       "      <th>2021-03-15</th>\n",
       "      <td>0.625464</td>\n",
       "      <td>0.863373</td>\n",
       "      <td>0.270713</td>\n",
       "      <td>0.940082</td>\n",
       "    </tr>\n",
       "  </tbody>\n",
       "</table>\n",
       "</div>"
      ],
      "text/plain": [
       "               00.00     06.00     12.00     18.00\n",
       "2021-03-09  0.877720  0.577552  0.758236  0.843486\n",
       "2021-03-10  0.767632  0.206914  0.298570  0.098235\n",
       "2021-03-11  0.150353  0.085990  0.725898  0.077406\n",
       "2021-03-12  0.952085  0.309042  0.178235  0.937082\n",
       "2021-03-13  0.027392  0.500000  0.500000  0.035815\n",
       "2021-03-14  0.994721  0.500000  0.500000  0.372276\n",
       "2021-03-15  0.625464  0.863373  0.270713  0.940082"
      ]
     },
     "execution_count": 188,
     "metadata": {},
     "output_type": "execute_result"
    }
   ],
   "source": [
    "df"
   ]
  },
  {
   "cell_type": "code",
   "execution_count": 189,
   "metadata": {},
   "outputs": [],
   "source": [
    "df4 = pd.DataFrame(data)"
   ]
  },
  {
   "cell_type": "code",
   "execution_count": 190,
   "metadata": {},
   "outputs": [
    {
     "data": {
      "text/html": [
       "<div>\n",
       "<style scoped>\n",
       "    .dataframe tbody tr th:only-of-type {\n",
       "        vertical-align: middle;\n",
       "    }\n",
       "\n",
       "    .dataframe tbody tr th {\n",
       "        vertical-align: top;\n",
       "    }\n",
       "\n",
       "    .dataframe thead th {\n",
       "        text-align: right;\n",
       "    }\n",
       "</style>\n",
       "<table border=\"1\" class=\"dataframe\">\n",
       "  <thead>\n",
       "    <tr style=\"text-align: right;\">\n",
       "      <th></th>\n",
       "      <th>İsim</th>\n",
       "      <th>Boy</th>\n",
       "      <th>AyakkabıNumarası</th>\n",
       "      <th>Kilo</th>\n",
       "    </tr>\n",
       "  </thead>\n",
       "  <tbody>\n",
       "    <tr>\n",
       "      <th>0</th>\n",
       "      <td>Ahnet</td>\n",
       "      <td>180.0</td>\n",
       "      <td>42.0</td>\n",
       "      <td>80</td>\n",
       "    </tr>\n",
       "    <tr>\n",
       "      <th>1</th>\n",
       "      <td>Ezgi</td>\n",
       "      <td>170.0</td>\n",
       "      <td>NaN</td>\n",
       "      <td>50</td>\n",
       "    </tr>\n",
       "    <tr>\n",
       "      <th>2</th>\n",
       "      <td>Mehmet</td>\n",
       "      <td>150.0</td>\n",
       "      <td>39.0</td>\n",
       "      <td>70</td>\n",
       "    </tr>\n",
       "    <tr>\n",
       "      <th>3</th>\n",
       "      <td>Sevda</td>\n",
       "      <td>NaN</td>\n",
       "      <td>36.0</td>\n",
       "      <td>45</td>\n",
       "    </tr>\n",
       "  </tbody>\n",
       "</table>\n",
       "</div>"
      ],
      "text/plain": [
       "     İsim    Boy  AyakkabıNumarası  Kilo\n",
       "0   Ahnet  180.0              42.0    80\n",
       "1    Ezgi  170.0               NaN    50\n",
       "2  Mehmet  150.0              39.0    70\n",
       "3   Sevda    NaN              36.0    45"
      ]
     },
     "execution_count": 190,
     "metadata": {},
     "output_type": "execute_result"
    }
   ],
   "source": [
    "df4"
   ]
  },
  {
   "cell_type": "code",
   "execution_count": 208,
   "metadata": {},
   "outputs": [],
   "source": [
    "data = {\"isim\": [\"Ahmet\", \"Ezgi\", \"Mehmet\", \"Sevda\", \"Ezgi\"],\n",
    "       \"boy\": [180, 170, 150, 160, 150],\n",
    "       \"ayakkabiNumarası\": [42, 37, 39, 36, 38],\n",
    "       \"kilo\": [80, 50, 70, 50, 60]}"
   ]
  },
  {
   "cell_type": "code",
   "execution_count": 209,
   "metadata": {},
   "outputs": [],
   "source": [
    "df4 = pd.DataFrame(data)"
   ]
  },
  {
   "cell_type": "code",
   "execution_count": 210,
   "metadata": {},
   "outputs": [
    {
     "data": {
      "text/html": [
       "<div>\n",
       "<style scoped>\n",
       "    .dataframe tbody tr th:only-of-type {\n",
       "        vertical-align: middle;\n",
       "    }\n",
       "\n",
       "    .dataframe tbody tr th {\n",
       "        vertical-align: top;\n",
       "    }\n",
       "\n",
       "    .dataframe thead th {\n",
       "        text-align: right;\n",
       "    }\n",
       "</style>\n",
       "<table border=\"1\" class=\"dataframe\">\n",
       "  <thead>\n",
       "    <tr style=\"text-align: right;\">\n",
       "      <th></th>\n",
       "      <th>isim</th>\n",
       "      <th>boy</th>\n",
       "      <th>ayakkabiNumarası</th>\n",
       "      <th>kilo</th>\n",
       "    </tr>\n",
       "  </thead>\n",
       "  <tbody>\n",
       "    <tr>\n",
       "      <th>0</th>\n",
       "      <td>Ahmet</td>\n",
       "      <td>180</td>\n",
       "      <td>42</td>\n",
       "      <td>80</td>\n",
       "    </tr>\n",
       "    <tr>\n",
       "      <th>1</th>\n",
       "      <td>Ezgi</td>\n",
       "      <td>170</td>\n",
       "      <td>37</td>\n",
       "      <td>50</td>\n",
       "    </tr>\n",
       "    <tr>\n",
       "      <th>2</th>\n",
       "      <td>Mehmet</td>\n",
       "      <td>150</td>\n",
       "      <td>39</td>\n",
       "      <td>70</td>\n",
       "    </tr>\n",
       "    <tr>\n",
       "      <th>3</th>\n",
       "      <td>Sevda</td>\n",
       "      <td>160</td>\n",
       "      <td>36</td>\n",
       "      <td>50</td>\n",
       "    </tr>\n",
       "    <tr>\n",
       "      <th>4</th>\n",
       "      <td>Ezgi</td>\n",
       "      <td>150</td>\n",
       "      <td>38</td>\n",
       "      <td>60</td>\n",
       "    </tr>\n",
       "  </tbody>\n",
       "</table>\n",
       "</div>"
      ],
      "text/plain": [
       "     isim  boy  ayakkabiNumarası  kilo\n",
       "0   Ahmet  180                42    80\n",
       "1    Ezgi  170                37    50\n",
       "2  Mehmet  150                39    70\n",
       "3   Sevda  160                36    50\n",
       "4    Ezgi  150                38    60"
      ]
     },
     "execution_count": 210,
     "metadata": {},
     "output_type": "execute_result"
    }
   ],
   "source": [
    "df4"
   ]
  },
  {
   "cell_type": "code",
   "execution_count": 214,
   "metadata": {},
   "outputs": [
    {
     "data": {
      "text/html": [
       "<div>\n",
       "<style scoped>\n",
       "    .dataframe tbody tr th:only-of-type {\n",
       "        vertical-align: middle;\n",
       "    }\n",
       "\n",
       "    .dataframe tbody tr th {\n",
       "        vertical-align: top;\n",
       "    }\n",
       "\n",
       "    .dataframe thead th {\n",
       "        text-align: right;\n",
       "    }\n",
       "</style>\n",
       "<table border=\"1\" class=\"dataframe\">\n",
       "  <thead>\n",
       "    <tr style=\"text-align: right;\">\n",
       "      <th></th>\n",
       "      <th>boy</th>\n",
       "      <th>ayakkabiNumarası</th>\n",
       "    </tr>\n",
       "    <tr>\n",
       "      <th>kilo</th>\n",
       "      <th></th>\n",
       "      <th></th>\n",
       "    </tr>\n",
       "  </thead>\n",
       "  <tbody>\n",
       "    <tr>\n",
       "      <th>50</th>\n",
       "      <td>165.0</td>\n",
       "      <td>36.5</td>\n",
       "    </tr>\n",
       "    <tr>\n",
       "      <th>60</th>\n",
       "      <td>150.0</td>\n",
       "      <td>38.0</td>\n",
       "    </tr>\n",
       "    <tr>\n",
       "      <th>70</th>\n",
       "      <td>150.0</td>\n",
       "      <td>39.0</td>\n",
       "    </tr>\n",
       "    <tr>\n",
       "      <th>80</th>\n",
       "      <td>180.0</td>\n",
       "      <td>42.0</td>\n",
       "    </tr>\n",
       "  </tbody>\n",
       "</table>\n",
       "</div>"
      ],
      "text/plain": [
       "        boy  ayakkabiNumarası\n",
       "kilo                         \n",
       "50    165.0              36.5\n",
       "60    150.0              38.0\n",
       "70    150.0              39.0\n",
       "80    180.0              42.0"
      ]
     },
     "execution_count": 214,
     "metadata": {},
     "output_type": "execute_result"
    }
   ],
   "source": [
    "df4.groupby(\"kilo\").mean()"
   ]
  },
  {
   "cell_type": "code",
   "execution_count": 215,
   "metadata": {},
   "outputs": [
    {
     "data": {
      "text/html": [
       "<div>\n",
       "<style scoped>\n",
       "    .dataframe tbody tr th:only-of-type {\n",
       "        vertical-align: middle;\n",
       "    }\n",
       "\n",
       "    .dataframe tbody tr th {\n",
       "        vertical-align: top;\n",
       "    }\n",
       "\n",
       "    .dataframe thead th {\n",
       "        text-align: right;\n",
       "    }\n",
       "</style>\n",
       "<table border=\"1\" class=\"dataframe\">\n",
       "  <thead>\n",
       "    <tr style=\"text-align: right;\">\n",
       "      <th></th>\n",
       "      <th>boy</th>\n",
       "      <th>ayakkabiNumarası</th>\n",
       "      <th>kilo</th>\n",
       "    </tr>\n",
       "    <tr>\n",
       "      <th>isim</th>\n",
       "      <th></th>\n",
       "      <th></th>\n",
       "      <th></th>\n",
       "    </tr>\n",
       "  </thead>\n",
       "  <tbody>\n",
       "    <tr>\n",
       "      <th>Ahmet</th>\n",
       "      <td>180.0</td>\n",
       "      <td>42.0</td>\n",
       "      <td>80.0</td>\n",
       "    </tr>\n",
       "    <tr>\n",
       "      <th>Ezgi</th>\n",
       "      <td>160.0</td>\n",
       "      <td>37.5</td>\n",
       "      <td>55.0</td>\n",
       "    </tr>\n",
       "    <tr>\n",
       "      <th>Mehmet</th>\n",
       "      <td>150.0</td>\n",
       "      <td>39.0</td>\n",
       "      <td>70.0</td>\n",
       "    </tr>\n",
       "    <tr>\n",
       "      <th>Sevda</th>\n",
       "      <td>160.0</td>\n",
       "      <td>36.0</td>\n",
       "      <td>50.0</td>\n",
       "    </tr>\n",
       "  </tbody>\n",
       "</table>\n",
       "</div>"
      ],
      "text/plain": [
       "          boy  ayakkabiNumarası  kilo\n",
       "isim                                 \n",
       "Ahmet   180.0              42.0  80.0\n",
       "Ezgi    160.0              37.5  55.0\n",
       "Mehmet  150.0              39.0  70.0\n",
       "Sevda   160.0              36.0  50.0"
      ]
     },
     "execution_count": 215,
     "metadata": {},
     "output_type": "execute_result"
    }
   ],
   "source": [
    "df4.groupby(\"isim\").mean()"
   ]
  },
  {
   "cell_type": "code",
   "execution_count": 216,
   "metadata": {},
   "outputs": [
    {
     "data": {
      "text/html": [
       "<div>\n",
       "<style scoped>\n",
       "    .dataframe tbody tr th:only-of-type {\n",
       "        vertical-align: middle;\n",
       "    }\n",
       "\n",
       "    .dataframe tbody tr th {\n",
       "        vertical-align: top;\n",
       "    }\n",
       "\n",
       "    .dataframe thead th {\n",
       "        text-align: right;\n",
       "    }\n",
       "</style>\n",
       "<table border=\"1\" class=\"dataframe\">\n",
       "  <thead>\n",
       "    <tr style=\"text-align: right;\">\n",
       "      <th></th>\n",
       "      <th></th>\n",
       "      <th>ayakkabiNumarası</th>\n",
       "    </tr>\n",
       "    <tr>\n",
       "      <th>boy</th>\n",
       "      <th>kilo</th>\n",
       "      <th></th>\n",
       "    </tr>\n",
       "  </thead>\n",
       "  <tbody>\n",
       "    <tr>\n",
       "      <th rowspan=\"2\" valign=\"top\">150</th>\n",
       "      <th>60</th>\n",
       "      <td>38</td>\n",
       "    </tr>\n",
       "    <tr>\n",
       "      <th>70</th>\n",
       "      <td>39</td>\n",
       "    </tr>\n",
       "    <tr>\n",
       "      <th>160</th>\n",
       "      <th>50</th>\n",
       "      <td>36</td>\n",
       "    </tr>\n",
       "    <tr>\n",
       "      <th>170</th>\n",
       "      <th>50</th>\n",
       "      <td>37</td>\n",
       "    </tr>\n",
       "    <tr>\n",
       "      <th>180</th>\n",
       "      <th>80</th>\n",
       "      <td>42</td>\n",
       "    </tr>\n",
       "  </tbody>\n",
       "</table>\n",
       "</div>"
      ],
      "text/plain": [
       "          ayakkabiNumarası\n",
       "boy kilo                  \n",
       "150 60                  38\n",
       "    70                  39\n",
       "160 50                  36\n",
       "170 50                  37\n",
       "180 80                  42"
      ]
     },
     "execution_count": 216,
     "metadata": {},
     "output_type": "execute_result"
    }
   ],
   "source": [
    "df4.groupby([\"boy\",\"kilo\"]).mean()"
   ]
  },
  {
   "cell_type": "code",
   "execution_count": null,
   "metadata": {},
   "outputs": [],
   "source": []
  }
 ],
 "metadata": {
  "kernelspec": {
   "display_name": "Python 3",
   "language": "python",
   "name": "python3"
  },
  "language_info": {
   "codemirror_mode": {
    "name": "ipython",
    "version": 3
   },
   "file_extension": ".py",
   "mimetype": "text/x-python",
   "name": "python",
   "nbconvert_exporter": "python",
   "pygments_lexer": "ipython3",
   "version": "3.8.5"
  }
 },
 "nbformat": 4,
 "nbformat_minor": 4
}
