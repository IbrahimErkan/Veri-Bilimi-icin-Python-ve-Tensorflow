{
 "cells": [
  {
   "cell_type": "code",
   "execution_count": 2,
   "metadata": {},
   "outputs": [
    {
     "name": "stdout",
     "output_type": "stream",
     "text": [
      "geçerli bir kullanıcı adı giriniz: 12\n",
      "geçerli bir kullanıcı adı giriniz: fşfdag\n",
      "geçerli bir kullanıcı adı giriniz: python\n",
      "geçerli bir kullanıcı adı girildi\n"
     ]
    }
   ],
   "source": [
    "kontrol = False\n",
    "while not kontrol:\n",
    "    #kullanıcı adı istendi\n",
    "    k_adi = input(\"geçerli bir kullanıcı adı giriniz: \")\n",
    "    harfler = \"ABCDEFGHIJKLMNOPQRSTUVWXYZabcdefghijklmnopqrstuvwxyz\"\n",
    "    boyut = len(k_adi)\n",
    "    #print(boyut)\n",
    "    #kullanıcı adı boyutu ölçülüyor\n",
    "    if boyut <= 8:\n",
    "        a = 0\n",
    "    #    print(\"geçerli uzunlukta bir kullanıcı adı\")\n",
    "        for harf in k_adi:\n",
    "            if harf in harfler:\n",
    "                a = a +1 #a + = 1\n",
    "        if a == boyut:\n",
    "            print(\"geçerli bir kullanıcı adı girildi\")\n",
    "            kontrol = True"
   ]
  },
  {
   "cell_type": "code",
   "execution_count": null,
   "metadata": {},
   "outputs": [],
   "source": []
  }
 ],
 "metadata": {
  "kernelspec": {
   "display_name": "Python 3",
   "language": "python",
   "name": "python3"
  },
  "language_info": {
   "codemirror_mode": {
    "name": "ipython",
    "version": 3
   },
   "file_extension": ".py",
   "mimetype": "text/x-python",
   "name": "python",
   "nbconvert_exporter": "python",
   "pygments_lexer": "ipython3",
   "version": "3.8.5"
  }
 },
 "nbformat": 4,
 "nbformat_minor": 4
}
